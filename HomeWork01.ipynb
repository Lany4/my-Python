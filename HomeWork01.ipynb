{
  "nbformat": 4,
  "nbformat_minor": 0,
  "metadata": {
    "colab": {
      "provenance": []
    },
    "kernelspec": {
      "name": "python3",
      "display_name": "Python 3"
    },
    "language_info": {
      "name": "python"
    }
  },
  "cells": [
    {
      "cell_type": "markdown",
      "source": [
        "**Домашнее задание к лекции \"Основы Python\"**\n",
        "\n",
        "✅**Задание 1**\n",
        "Даны 2 переменных, в которых хранятся строки произвольной длины: phrase_1 и phrase_2.\n",
        "Напишите код, который проверяет какая из этих строк длиннее.\n",
        "\n",
        "Примеры работы программы:\n",
        "\n",
        "phrase_1 = 'Насколько проще было бы писать программы, если бы не заказчики'\n",
        "phrase_2 = '640Кб должно хватить для любых задач. Билл Гейтс (по легенде)'\n",
        "\n",
        "Результат:\n",
        "Фраза 1 длиннее фразы 2 2.\n",
        "\n",
        "phrase_1 = '640Кб должно хватить для любых задач. Билл Гейтс (по легенде)'\n",
        "phrase_2 = 'Насколько проще было бы писать программы, если бы не заказчики'\n",
        "Результат:\n",
        "Фраза 2 длиннее фразы 1 3.\n",
        "\n",
        "phrase_1 = 'Насколько проще было бы писать программы, если бы не заказчики'\n",
        "phrase_2 = 'Насколько проще было бы писать программы, если бы не заказчики'\n",
        "Результат:\n",
        "Фразы равной длины"
      ],
      "metadata": {
        "id": "PpX5YYg-vkdb"
      }
    },
    {
      "cell_type": "code",
      "source": [
        "phrase_1 = input('Введите строку 1')\n",
        "phrase_2 = input('Введите строку 2')\n",
        "if len(phrase_1) > len(phrase_2):\n",
        "  print('Фраза 1 длиннее фразы 2')\n",
        "elif len(phrase_1) < len(phrase_2):\n",
        "  print('Фраза 2 длиннее фразы 1')\n",
        "else:\n",
        "  print('Фразы равной длины')"
      ],
      "metadata": {
        "colab": {
          "base_uri": "https://localhost:8080/"
        },
        "id": "2qRdQkAawFUm",
        "outputId": "660e06bd-4241-48ac-ee37-7086cc885b2d"
      },
      "execution_count": null,
      "outputs": [
        {
          "output_type": "stream",
          "name": "stdout",
          "text": [
            "Введите строку 1Насколько проще было бы писать программы, если бы не заказчики'\n",
            "Введите строку 2Насколько проще было бы писать программы, если бы не заказчики'\n",
            "Фразы равной длины\n"
          ]
        }
      ]
    },
    {
      "cell_type": "markdown",
      "source": [
        "✅**Задание 2**\n",
        "Дана переменная, в которой хранится число (год). Необходимо написать программу, которая выведет, является ли данный год високосным или обычным.\n",
        "\n",
        "Пример работы программы:\n",
        "\n",
        "year = 2020\n",
        "Результат:\n",
        "Високосный год\n",
        "\n",
        "year = 2019\n",
        "Результат:\n",
        "Обычный год"
      ],
      "metadata": {
        "id": "Mux29IfRvrIZ"
      }
    },
    {
      "cell_type": "code",
      "source": [
        "year = int(input('Введите год '))\n",
        "# Високосный год - год кратный 4\n",
        "if year % 4 == 0:\n",
        "  print(year, '- високосный год')\n",
        "else:\n",
        "  print(year, '- обычный год')"
      ],
      "metadata": {
        "colab": {
          "base_uri": "https://localhost:8080/"
        },
        "id": "W5PUc1payk0C",
        "outputId": "8926b765-640a-4e65-da7f-4edce66bda4b"
      },
      "execution_count": null,
      "outputs": [
        {
          "output_type": "stream",
          "name": "stdout",
          "text": [
            "Введите год 2020\n",
            "2020 - високосный год\n"
          ]
        }
      ]
    },
    {
      "cell_type": "markdown",
      "source": [
        "\n",
        "✅**Задание 3**\n",
        "Необходимо написать программу, которая будет запрашивать у пользователя месяц и дату рождения и выводить соответствующий знак зодиака.\n",
        "\n",
        "Пример работы программы:\n",
        "\n",
        "Введите день:\n",
        "30\n",
        "\n",
        "Введите месяц:\n",
        "Август\n",
        "Результат:\n",
        "Ваш знак зодиака: Дева\n",
        "\n",
        "Введите день:\n",
        "29\n",
        "\n",
        "Введите месяц:\n",
        "Октябрь\n",
        "Результат:\n",
        "Ваш знак зодиака: Скорпион"
      ],
      "metadata": {
        "id": "3RHFJ3UuvnvP"
      }
    },
    {
      "cell_type": "code",
      "source": [
        "day = int(input('Введите день '))\n",
        "month = input('Введите месяц ')\n",
        "# Вспомнила про регистр после написания и поленилась менять регистр месяцев в коде, поэтому использовала метод capitalize()\n",
        "\n",
        "if 31 >= day >= 21  and month.capitalize() == 'Март' or day <= 19 and month.capitalize() == 'Апрель':\n",
        "  print ('Ваш знак зодиака: Овен')\n",
        "elif 30 >= day >= 20 and month.capitalize() == 'Апрель' or day <= 20 and month.capitalize() == 'Май':\n",
        "  print ('Ваш знак зодиака: Телец')\n",
        "elif 31 >= day >= 21 and month.capitalize() == 'Май' or day <= 20 and month.capitalize() == 'Июнь':\n",
        "  print ('Ваш знак зодиака: Близнецы')\n",
        "elif 30 >= day >= 21 and month.capitalize() == 'Июнь' or day <= 22 and month.capitalize() == 'Июль':\n",
        "  print ('Ваш знак зодиака: Рак')\n",
        "elif 31 >= day >= 23 and month.capitalize() == 'Июль' or day <= 22 and month.capitalize() == 'Август':\n",
        "  print ('Ваш знак зодиака: Лев')\n",
        "elif 31 >= day >= 23 and month.capitalize() == 'Август' or day <= 22 and month.capitalize() == 'Сентябрь':\n",
        "  print ('Ваш знак зодиака: Дева')\n",
        "elif 30 >= day >= 23 and month.capitalize() == 'Сентябрь' or day <= 22 and month.capitalize() == 'Октябрь':\n",
        "  print ('Ваш знак зодиака: Весы')\n",
        "elif 31 >= day >= 23 and month.capitalize() == 'Октябрь' or day <= 21 and month.capitalize() == 'Ноябрь':\n",
        "  print ('Ваш знак зодиака: Скорпион')\n",
        "elif 30 >= day >= 22 and month.capitalize() == 'Ноябрь' or day <= 21 and month.capitalize() == 'Декабрь':\n",
        "  print ('Ваш знак зодиака: Стрелец')\n",
        "elif 31 >= day >= 22 and month.capitalize() == 'Декабрь' or day <= 19 and month.capitalize() == 'Январь':\n",
        "  print ('Ваш знак зодиака: Козерог')\n",
        "elif 31>= day >= 20 and month.capitalize() == 'Январь' or day <= 18 and month.capitalize() == 'Февраль':\n",
        "  print ('Ваш знак зодиака: Водолей')\n",
        "elif 29>= day >= 19 and month.capitalize() == 'Февраль' or day <= 20 and month.capitalize() == 'Март':\n",
        "  print ('Ваш знак зодиака: Рыбы')\n",
        "else:\n",
        "  print('Такой даты нет')\n"
      ],
      "metadata": {
        "colab": {
          "base_uri": "https://localhost:8080/"
        },
        "id": "1rsFUVBMzwIA",
        "outputId": "4279f60e-5d3e-4fb5-bebb-ab0e07cad874"
      },
      "execution_count": null,
      "outputs": [
        {
          "output_type": "stream",
          "name": "stdout",
          "text": [
            "Введите день -1\n",
            "Введите месяц февраля\n",
            "Такой даты нет\n"
          ]
        }
      ]
    },
    {
      "cell_type": "markdown",
      "source": [
        "✅**Задание 4**\n",
        "Вам нужно написать программу для подбора упаковок по размерам товара. Размеры (ширина, длина, высота) хранятся в переменных (в сантиметрах):\n",
        "\n",
        "Используйте следующие правила:\n",
        "\n",
        "если каждое из трех измерений менее или равно 15 сантиметрам, то выведите на экран \"Коробка №1\";\n",
        "если хотя бы одно из измерений больше 2 метров, то выводите \"Упаковка для лыж\";\n",
        "если хотя бы одно из измерений больше 15 сантиметров, но менее 50 сантиметров, то выводите \"Коробка №2\";\n",
        "во всех остальных случаях выводите \"Коробка №3\".\n",
        "Пример работы программы:\n",
        "\n",
        "width = 15\n",
        "length = 55\n",
        "height = 15\n",
        "Результат:\n",
        "Стандартная коробка №3\n",
        "\n",
        "width = 45\n",
        "length = 205\n",
        "height = 45\n",
        "Результат:\n",
        "Ищите упаковку для лыж"
      ],
      "metadata": {
        "id": "ldwVLoOPvztt"
      }
    },
    {
      "cell_type": "code",
      "source": [
        "width = int(input('Введите ширину'))\n",
        "length = int(input('Введите длину'))\n",
        "height = int(input('Введите высоту'))\n",
        "if width <= 15 and length <= 15 and height <= 15:\n",
        "  print('Коробка №1')\n",
        "elif width < 50 and length < 50 and height <50:\n",
        "  print('Коробка №2')\n",
        "elif width > 200 or length > 200 or height > 200:\n",
        "  print('Ищите упаковку для лыж')\n",
        "else:\n",
        "  print('Коробка №3')"
      ],
      "metadata": {
        "colab": {
          "base_uri": "https://localhost:8080/"
        },
        "id": "P7RjcULD0UBy",
        "outputId": "5df236a4-08b7-4e6f-ec8c-05df1b851799"
      },
      "execution_count": null,
      "outputs": [
        {
          "output_type": "stream",
          "name": "stdout",
          "text": [
            "Введите ширину45\n",
            "Введите длину205\n",
            "Введите высоту45\n",
            "Ищите упаковку для лыж\n"
          ]
        }
      ]
    },
    {
      "cell_type": "markdown",
      "source": [
        "✅**Задание 5 (необязательное)**\n",
        "Дана переменная, в которой хранится шестизначное число (номер проездного билета). Напишите программу, которая будет определять, является ли данный билет \"счастливым\". Билет считается счастливым, если сумма первых трех цифр совпадает с суммой последних трех цифр номера.\n",
        "\n",
        "Примеры работы программы:\n",
        "\n",
        "number = 123456\n",
        "Результат:\n",
        "Несчастливый билет\n",
        "\n",
        "number = 123321\n",
        "Результат:\n",
        "Счастливый билет"
      ],
      "metadata": {
        "id": "HGa2Wfkbv3Ny"
      }
    },
    {
      "cell_type": "code",
      "source": [
        "number = int(input('Введите номер билета'))\n",
        "if len(str(number)) == 6:\n",
        "  sum_first_3 = 0\n",
        "  sum_last_3 = 0\n",
        "  while len(str(number)) > 3:\n",
        "    sum_last_3 += number % 10  # суммируем остатки от деления на 10 пока не останется 3 цифры\n",
        "    number = number // 10\n",
        "  while number != 0:  #Цикл пока number не равен 0\n",
        "    sum_first_3 += number % 10  # суммируем остатки от деления на 10 пока не = 0\n",
        "    number = number // 10\n",
        "  if sum_first_3 == sum_last_3: # Сравниваем суммы\n",
        "    print('Счастливый билет')\n",
        "  else:\n",
        "    print('Несчастливый билет')\n",
        "else:\n",
        "  print('Невозможно определеить, номер должен состоять из 6 цифр')"
      ],
      "metadata": {
        "colab": {
          "base_uri": "https://localhost:8080/"
        },
        "id": "aPQH3wuM-ocY",
        "outputId": "1903f26e-6198-41e3-d94c-4b519acc2883"
      },
      "execution_count": null,
      "outputs": [
        {
          "output_type": "stream",
          "name": "stdout",
          "text": [
            "Введите номер билета123321\n",
            "Счастливый билет\n"
          ]
        }
      ]
    },
    {
      "cell_type": "markdown",
      "source": [
        "✅**Задание 6 (необязательное)**\n",
        "Напишите программу, которая сможет вычислять площади трех фигур (круг, треугольник и прямоугольник). Тип фигуры запрашиваем через пользовательский ввод, после чего делаем запрос характеристик фигуры:\n",
        "\n",
        "если пользователь выбрал круг, запрашиваем его радиус,\n",
        "если треугольник – длины трех его сторон;\n",
        "если прямоугольник – длины двух его сторон.\n",
        "Пример работы программы:\n",
        "\n",
        "Введите тип фигуры:\n",
        "Круг\n",
        "\n",
        "Введите радиус круга:\n",
        "10\n",
        "Результат:\n",
        "Площадь круга: 314.16\n",
        "\n",
        "Введите тип фигуры:\n",
        "Треугольник\n",
        "\n",
        "Введите длину стороны A:\n",
        "2\n",
        "\n",
        "Введите длину стороны B:\n",
        "2\n",
        "\n",
        "Введите длину стороны C:\n",
        "3\n",
        "Результат:\n",
        "Площадь треугольника: 1.98"
      ],
      "metadata": {
        "id": "l0vNKd3ov6AS"
      }
    },
    {
      "cell_type": "code",
      "source": [
        "import math  # для числа Pi\n",
        "figure = input('Введите название фигуры (круг / треугольник / прямоугольник)')\n",
        "if figure.lower() == 'круг':  # мало ли в каком регистре пользователь ввёл название фигуры\n",
        "  radius = float(input('Введите радиус круга'))\n",
        "  if radius > 0:\n",
        "    print('Площадь круга: ', round((math.pi * (radius ** 2)), 2))\n",
        "  else:\n",
        "    print('Радиус не может быть отрицательным и равным 0')\n",
        "elif figure.lower() == 'треугольник':\n",
        "  print('Нужно ввести длины сторон треугольника')\n",
        "  storona_treyg_1 = float(input('Введите длину стороны 1'))\n",
        "  storona_treyg_2 = float(input('Введите длину стороны 2'))\n",
        "  storona_treyg_3 = float(input('Введите длину стороны 3'))\n",
        "  if (storona_treyg_1 + storona_treyg_2 > storona_treyg_3) and (storona_treyg_2 + storona_treyg_3 > storona_treyg_1) and (storona_treyg_3 + storona_treyg_2 > storona_treyg_1 ) :\n",
        "     poluperimentr = (storona_treyg_1 + storona_treyg_2 + storona_treyg_3 ) / 2\n",
        "     ploshad_mreug = (poluperimentr * (poluperimentr - storona_treyg_1) * (poluperimentr - storona_treyg_2) * (poluperimentr - storona_treyg_3)) ** 0.5\n",
        "     print('Площадь треугольника: ', round(ploshad_mreug, 2))\n",
        "  else:\n",
        "    print('Вырожденный треугольник')\n",
        "elif figure.lower() == 'прямоугольник':\n",
        "  print('Нужно ввести длины сторон прямоугольника')\n",
        "  storona_pryam_1 = float(input('Введите длину стороны 1'))\n",
        "  storona_pryam_2 = float(input('Введите длину стороны 2'))\n",
        "  if  storona_pryam_1 > 0 and  storona_pryam_2 > 0:\n",
        "    print('Площадь прямоугольника: ', storona_pryam_1 * storona_pryam_2 )\n",
        "  else:\n",
        "    print('Eсли одна сторона = 0, то получается прямая, а у прямой не бывает площади')\n",
        "else:\n",
        "  print('Площадь такой фигуры я пока считать не умею, приходите завтра')"
      ],
      "metadata": {
        "colab": {
          "base_uri": "https://localhost:8080/"
        },
        "id": "fQQobHucE-u9",
        "outputId": "f08d3e76-f96b-4316-c228-19f864428145"
      },
      "execution_count": null,
      "outputs": [
        {
          "output_type": "stream",
          "name": "stdout",
          "text": [
            "Введите название фигуры (круг / треугольник / прямоугольник)круг\n",
            "Введите радиус круга0\n",
            "Радиус не может быть отрицательным и равным 0\n"
          ]
        }
      ]
    }
  ]
}