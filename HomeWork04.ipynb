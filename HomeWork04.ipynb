{
  "nbformat": 4,
  "nbformat_minor": 0,
  "metadata": {
    "colab": {
      "provenance": []
    },
    "kernelspec": {
      "name": "python3",
      "display_name": "Python 3"
    },
    "language_info": {
      "name": "python"
    }
  },
  "cells": [
    {
      "cell_type": "markdown",
      "source": [
        "Вам нужно помочь секретарю автоматизировать работу. Для этого нужно написать программу, которая будет на основе хранимых данных исполнять пользовательские команды."
      ],
      "metadata": {
        "id": "QLHv94zCiZUP"
      }
    },
    {
      "cell_type": "code",
      "source": [
        "# Рабочие директории\n",
        "documents = [ {'type': 'passport', 'number': '2207 876234', 'name': 'Василий Гупкин'}, {'type': 'invoice', 'number': '11-2', 'name': 'Геннадий Покемонов'}, {'type': 'insurance', 'number': '10006', 'name': 'Аристарх Павлов'} ]\n",
        "directories = { '1': ['2207 876234', '11-2'], '2': ['10006'], '3': [] }\n",
        "\n",
        "# Функции для валидации\n",
        "def is_doc(doc_numb = None):      # По умолчанию значение None\n",
        "  \"\"\"\n",
        "  Функция проверяет, существует ли документ в базе, возвращает True/False\n",
        "  \"\"\"\n",
        "  if doc_numb is None:      # Если значение None, запрашивать пользовательский ввод (если нет, берет из локальной функции, в которой вызывается)\n",
        "    doc_numb = input('Введите номер документа: ')\n",
        "  flag = False\n",
        "  for el in documents:\n",
        "    if doc_numb in el.values():     # если номер документа присутствует в значениях словаря(el) в documents\n",
        "      flag = True     # Поднять флаг\n",
        "  for key, val in directories.items():     # проверяет номер документа в значениях словаря directories\n",
        "    if doc_numb in val:\n",
        "      flag = True\n",
        "  return flag\n",
        "\n",
        "def is_shelf (shelf = None):     # По умолчанию значение None\n",
        "  \"\"\"\n",
        "  Функция проверяет, существует ли полка в базе, возвращает True/False\n",
        "  \"\"\"\n",
        "  if shelf is None:\n",
        "    shelf = input('Введите номер полки: ')\n",
        "  flag = False\n",
        "  for key, val in directories.items():\n",
        "    if shelf in key:\n",
        "      flag = True\n",
        "  return flag"
      ],
      "metadata": {
        "id": "rpk1F-_jifHM"
      },
      "execution_count": null,
      "outputs": []
    },
    {
      "cell_type": "markdown",
      "source": [
        "✅Задание 1\n",
        "\n",
        "Пункт 1. Пользователь по команде \"p\" может узнать владельца документа по его номеру"
      ],
      "metadata": {
        "id": "dqcbnqNyipU8"
      }
    },
    {
      "cell_type": "code",
      "source": [
        "def finding_name(doc_numb = None):     # По умолчанию значение None\n",
        "  \"\"\"\n",
        "  Функция возвращает имя владельца документа по введенному номеру документа\n",
        "  \"\"\"\n",
        "  if doc_numb is None:       # Если значение None, запрашивать пользовательский ввод (если нет, берет из локальной функции, в которой вызывается)\n",
        "    doc_numb = input('Введите номер документа: ')\n",
        "  flag = False\n",
        "  for el in documents:      #\n",
        "    if doc_numb in el.values():     # если номер документа присутствует в значениях словаря(el) в documents\n",
        "      print(el['name'])      # возвращает значение по ключу name\n",
        "      flag = True\n",
        "  if flag == False:\n",
        "    print('Владелец не найден')\n",
        "\n",
        "# doc_numb = input('Введите номер документа: ')\n",
        "finding_name()"
      ],
      "metadata": {
        "colab": {
          "base_uri": "https://localhost:8080/"
        },
        "id": "rtjZT1FPiowi",
        "outputId": "cff2348b-44e8-44b7-ed0c-857043218991"
      },
      "execution_count": null,
      "outputs": [
        {
          "output_type": "stream",
          "name": "stdout",
          "text": [
            "Введите номер документа: 123\n",
            "Владелец не найден\n"
          ]
        }
      ]
    },
    {
      "cell_type": "markdown",
      "source": [
        "✅Пункт 2. Пользователь по команде \"s\" может по номеру документа узнать на какой полке он хранится"
      ],
      "metadata": {
        "id": "3tsL3g2-ixpm"
      }
    },
    {
      "cell_type": "code",
      "source": [
        "def finding_shelf(doc_numb = None):     # По умолчанию значение None\n",
        "  \"\"\"\n",
        "  Функция возвращает номер полки по введенному номеру документа\n",
        "  \"\"\"\n",
        "  if doc_numb is None:    # Если значение None, запрашивать пользовательский ввод (если нет, берет из локальной функции, в которой вызывается)\n",
        "    doc_numb = input('Введите номер документа: ')\n",
        "  flag = False\n",
        "  for key, val in directories.items():     # проверяет номер документа в значениях словаря directories\n",
        "    if doc_numb in val:\n",
        "      print(f'Документ хранится на полке: {key}')      # возвращает ключ\n",
        "      flag = True\n",
        "  if flag == False:\n",
        "      print('Документ не найден в базе')\n",
        "\n",
        "finding_shelf()"
      ],
      "metadata": {
        "colab": {
          "base_uri": "https://localhost:8080/"
        },
        "id": "V3A3J926i1OS",
        "outputId": "eeef00e0-58cd-4d15-beef-85fa70f34db3"
      },
      "execution_count": null,
      "outputs": [
        {
          "output_type": "stream",
          "name": "stdout",
          "text": [
            "Введите номер документа: 123\n",
            "Документ не найден в базе\n"
          ]
        }
      ]
    },
    {
      "cell_type": "markdown",
      "source": [
        "✅Пункт 3. Пользователь по команде \"l\" может увидеть полную информацию по всем документам"
      ],
      "metadata": {
        "id": "DTWotf0Hi-Q1"
      }
    },
    {
      "cell_type": "code",
      "source": [
        "def finding_info():\n",
        "  \"\"\"\n",
        "  Функция возвращает информацию по всем документам\n",
        "  \"\"\"\n",
        "  for el in documents:\n",
        "    doc_numb = el['number']\n",
        "    type_ = el['type']\n",
        "    owner = el['name']\n",
        "    for key, val in directories.items():\n",
        "      if doc_numb in val:\n",
        "        shelf = key\n",
        "    print (f'№: {doc_numb}, тип: {type_}, владелец: {owner},полка хранения: {shelf}')\n",
        "\n",
        "print('Текущий перечень документов: ')\n",
        "finding_info()"
      ],
      "metadata": {
        "colab": {
          "base_uri": "https://localhost:8080/"
        },
        "id": "x7zzXxPPjBCW",
        "outputId": "1ebf92ec-ce2b-421d-a602-68c3aa06afdf"
      },
      "execution_count": null,
      "outputs": [
        {
          "output_type": "stream",
          "name": "stdout",
          "text": [
            "Текущий перечень документов: \n",
            "№: 2207 876234, тип: passport, владелец: Василий Гупкин,полка хранения: 1\n",
            "№: 11-2, тип: invoice, владелец: Геннадий Покемонов,полка хранения: 1\n",
            "№: 10006, тип: insurance, владелец: Аристарх Павлов,полка хранения: 2\n"
          ]
        }
      ]
    },
    {
      "cell_type": "markdown",
      "source": [
        "✅Пункт 4.\n",
        "\n",
        "Пользователь по команде \"ads\" может добавить новую полку"
      ],
      "metadata": {
        "id": "0msdF3NwjJ0l"
      }
    },
    {
      "cell_type": "code",
      "source": [
        "def add_shelf():\n",
        "  \"\"\" Функция добавляет полку, если такой полки нет\"\"\"\n",
        "  shelf_numb = input('Введите номер полки: ')\n",
        "  global directories     # определяем глобальную переменную\n",
        "  if shelf_numb in directories.keys():  # Проверяем, если полка существует\n",
        "    current_shelfs =  ','.join(list(directories.keys()))\n",
        "    print(f'Такая полка уже существует. Текущий перечень полок: {current_shelfs}')\n",
        "  else:      # если не существует\n",
        "    directories.setdefault(shelf_numb, [])     # добавим с пустым значением\n",
        "    current_shelfs =  ','.join(list(directories.keys()))\n",
        "    print(f'Полка добавлена. Текущий перечень полок: {current_shelfs}')\n",
        "\n",
        "add_shelf()"
      ],
      "metadata": {
        "colab": {
          "base_uri": "https://localhost:8080/"
        },
        "id": "cVcKqLGYjMdS",
        "outputId": "b12bed74-b9c9-4fbf-8fdd-f9226240bcdb"
      },
      "execution_count": null,
      "outputs": [
        {
          "output_type": "stream",
          "name": "stdout",
          "text": [
            "Введите номер полки: ads\n",
            "Полка добавлена. Текущий перечень полок: 1,2,3,ads\n"
          ]
        }
      ]
    },
    {
      "cell_type": "markdown",
      "source": [
        "✅Пункт 5. Пользователь по команде \"ds\" может удалить существующую полку из данных (только если она пустая)"
      ],
      "metadata": {
        "id": "VH_Gj-rujjjF"
      }
    },
    {
      "cell_type": "code",
      "source": [
        "def delete_shelf():\n",
        "  \"\"\" Функция удаляет полку, еcли полка пуста\"\"\"\n",
        "  shelf_numb = input('Введите номер полки: ')\n",
        "  global directories     # определяем глобальную переменную\n",
        "  if shelf_numb in directories.keys():      # если полка существует\n",
        "    if len(directories[shelf_numb]) > 0:     # если длина значения Ю 0, т.е. если она не пуста\n",
        "      current_shelfs =  ','.join(list(directories.keys()))\n",
        "      print(f'На полке есть документа, удалите их перед удалением полки. Текущий перечень полок: {current_shelfs}')\n",
        "    else:\n",
        "      del directories[shelf_numb]     # Если полка пуста, удаляем\n",
        "      current_shelfs =  ','.join(list(directories.keys()))\n",
        "      print(f'Полка удалена. Текущий перечень полок: {current_shelfs}')\n",
        "  else:\n",
        "    current_shelfs =  ','.join(list(directories.keys()))\n",
        "    print(f'Такой полки не существует. Текущий перечень полок: {current_shelfs}')\n",
        "delete_shelf()"
      ],
      "metadata": {
        "colab": {
          "base_uri": "https://localhost:8080/"
        },
        "id": "pNsY1pAAjmzD",
        "outputId": "dde1ac28-caa5-4a20-ef14-0132f4143f7c"
      },
      "execution_count": null,
      "outputs": [
        {
          "output_type": "stream",
          "name": "stdout",
          "text": [
            "Введите номер полки: ads\n",
            "Полка удалена. Текущий перечень полок: 1,2,3\n"
          ]
        }
      ]
    },
    {
      "cell_type": "markdown",
      "source": [
        "Задание 2 (необязательное)\n",
        "Вам необходимо дополнить программу из задания 1 более продвинутыми командами.\n",
        "\n",
        "✅Пункт 1.\n",
        "Пользователь по команде \"ad\" может добавить новый документ в данные"
      ],
      "metadata": {
        "id": "K2UhOp6cjtLK"
      }
    },
    {
      "cell_type": "code",
      "source": [
        "def add_doc(doc_numb = None, shelf = None, type_ = None, owner = None):     # По умолчанию значения None\n",
        "  \"\"\"\n",
        "  Функция добавляет документ в документы и на полку, если полка существует, возвращает результат True/False\n",
        "  \"\"\"\n",
        "  global directories    # определяем глобальную переменную\n",
        "  global documents      # определяем глобальную переменную\n",
        "  if doc_numb is None and shelf is None and type_ is None and owner is None:     # Если значение None, запрашивать пользовательский ввод (если нет, берет из локальной функции, в которой вызывается)\n",
        "    doc_numb = input('Введите номер документа: ')\n",
        "    type_ = input('Введите тип документа: ')\n",
        "    owner = input('Введите владельца документа: ')\n",
        "    shelf = input('Введите полку для хранения: ')\n",
        "\n",
        "  if is_shelf(shelf) == False:      # если полка не существует\n",
        "    return False\n",
        "    finding_info()\n",
        "  else:\n",
        "    new_shelf_value = {'type': type_, 'number': doc_numb, 'name': owner}    # в ловарь передадим ключи и значения данных, которые нужно добавить\n",
        "    for key, val in directories.items():\n",
        "      if key == shelf:       # найдём нужную полку в  directories\n",
        "        directories[shelf].append(doc_numb)   # добавим в directories по нужному ключу в значение\n",
        "        documents.append(new_shelf_value)     # добавим словарь в список словарей documents\n",
        "        return True\n",
        "\n",
        "print(add_doc())\n",
        "current_shelfs = ','.join(list(directories.keys()))\n",
        "print(f'Текущий перечень полок: {current_shelfs}')\n",
        "print('Текущий перечень документов: ')\n",
        "finding_info()"
      ],
      "metadata": {
        "colab": {
          "base_uri": "https://localhost:8080/"
        },
        "id": "BXammPpUjzdW",
        "outputId": "226bdbb5-852b-4a72-e09a-cc52910a5a8a"
      },
      "execution_count": null,
      "outputs": [
        {
          "output_type": "stream",
          "name": "stdout",
          "text": [
            "Введите номер документа: 1111111\n",
            "Введите тип документа: multipasp\n",
            "Введите владельца документа: Pupkin Vasiliy\n",
            "Введите полку для хранения: 3\n",
            "True\n",
            "Текущий перечень полок: 1,2,3\n",
            "Текущий перечень документов: \n",
            "№: 2207 876234, тип: passport, владелец: Василий Гупкин,полка хранения: 1\n",
            "№: 11-2, тип: invoice, владелец: Геннадий Покемонов,полка хранения: 1\n",
            "№: 10006, тип: insurance, владелец: Аристарх Павлов,полка хранения: 2\n",
            "№: 1111111, тип: multipasp, владелец: Pupkin Vasiliy,полка хранения: 3\n"
          ]
        }
      ]
    },
    {
      "cell_type": "markdown",
      "source": [
        "✅Пункт 2. Пользователь по команде \"d\" может удалить документ из данных"
      ],
      "metadata": {
        "id": "bfKj2tjVl7sc"
      }
    },
    {
      "cell_type": "code",
      "source": [
        "def delete_doc(doc_numb = None):     # По умолчанию значение None\n",
        "  \"\"\"\n",
        "  Функция удаляет документ, если он есть в базе\n",
        "  \"\"\"\n",
        "  global directories       # определяем глобальную переменную\n",
        "  global documents         # определяем глобальную переменную\n",
        "  if doc_numb is None:     # Если значение None, запрашивать пользовательский ввод (если нет, берет из локальной функции, в которой вызывается)\n",
        "    doc_numb = input('Введите номер документа: ')\n",
        "  flag = False\n",
        "  for el in documents:     # для э-в в documents\n",
        "    if doc_numb in el.values():     # если документ есть в значениях словаря\n",
        "      documents.remove(el)      # удалим весь элемент\n",
        "      for key, val in directories.items():     # для ключ-знаечний словаря\n",
        "        if doc_numb in val:     # если номер документа в значениях\n",
        "          val.remove(doc_numb)     # удалить из значений номер документа\n",
        "          flag = True\n",
        "  return flag\n",
        "\n",
        "print(delete_doc())\n",
        "print('Текущий перечень документов: ')\n",
        "finding_info()"
      ],
      "metadata": {
        "colab": {
          "base_uri": "https://localhost:8080/"
        },
        "id": "lDpN_Cp8l_6_",
        "outputId": "d86dccf2-07b4-4d37-c25c-8cf8a38a7b3d"
      },
      "execution_count": null,
      "outputs": [
        {
          "output_type": "stream",
          "name": "stdout",
          "text": [
            "Введите номер документа: 1111111\n",
            "True\n",
            "Текущий перечень документов: \n",
            "№: 2207 876234, тип: passport, владелец: Василий Гупкин,полка хранения: 1\n",
            "№: 11-2, тип: invoice, владелец: Геннадий Покемонов,полка хранения: 1\n",
            "№: 10006, тип: insurance, владелец: Аристарх Павлов,полка хранения: 2\n"
          ]
        }
      ]
    },
    {
      "cell_type": "markdown",
      "source": [
        "✅Пункт 3.\n",
        "Пользователь по команде \"m\" может переместить документ с полки на полку"
      ],
      "metadata": {
        "id": "_LbEndikmJDq"
      }
    },
    {
      "cell_type": "code",
      "source": [
        "def mooving_doc(doc_numb = None, shelf = None):     # По умолчанию значения None\n",
        "  \"\"\"\n",
        "  Функция перемещает существующий документ с текущей полки на вводимую пользователем (если номер вводимой полки существует).\n",
        "  \"\"\"\n",
        "  global directories      # определяем глобальную переменную\n",
        "  global documents        # определяем глобальную переменную\n",
        "  doc_numb = input('Введите номер документа: ')\n",
        "  shelf = input('Введите номер полки: ')\n",
        "  for el in documents:      #  определим переменные тип и владельца документа\n",
        "    if doc_numb in el.values():\n",
        "      type_ = el['type']\n",
        "      owner = el['name']\n",
        "  if is_doc(doc_numb) and is_shelf(shelf):     #  если документ существует и введенная полка существует\n",
        "    delete_doc(doc_numb)                       # вызываем функцию удаления документа\n",
        "    add_doc(doc_numb, shelf, type_, owner)      # вызываем функцию добавления докумеента. так как в add_doc определены параметры None, то в add_doc берет параметры из текущей функции\n",
        "    print('Документ перемещен. Текущий список документов: ')\n",
        "    finding_info()\n",
        "  elif is_doc(doc_numb) == False:       #  если документ не существует\n",
        "    print('Документ не найден в базе. Текущий список документов:')\n",
        "    finding_info()\n",
        "  elif is_shelf(shelf) == False:        #  если если введенная полка существует\n",
        "    current_shelfs = ','.join(list(directories.keys()))\n",
        "    print(f'Такой полки не существует. Текущий перечень полок: {current_shelfs}' )\n",
        "\n",
        "mooving_doc()"
      ],
      "metadata": {
        "colab": {
          "base_uri": "https://localhost:8080/"
        },
        "id": "mAy2441NmRZt",
        "outputId": "89c2eed6-86e0-4d4b-86d5-cb14e856a1a9"
      },
      "execution_count": null,
      "outputs": [
        {
          "output_type": "stream",
          "name": "stdout",
          "text": [
            "Введите номер документа: 11-2\n",
            "Введите номер полки: 3\n",
            "Документ перемещен. Текущий список документов: \n",
            "№: 2207 876234, тип: passport, владелец: Василий Гупкин,полка хранения: 1\n",
            "№: 10006, тип: insurance, владелец: Аристарх Павлов,полка хранения: 2\n",
            "№: 11-2, тип: invoice, владелец: Геннадий Покемонов,полка хранения: 3\n"
          ]
        }
      ]
    },
    {
      "cell_type": "markdown",
      "source": [
        "Изменить владельца документа (тоже бывает нужно)"
      ],
      "metadata": {
        "id": "2x5KO6P6LEjK"
      }
    },
    {
      "cell_type": "code",
      "source": [
        "def change_owner():\n",
        "  doc_numb = input('Введите номер документа: ')\n",
        "  global directories      # определяем глобальную переменную\n",
        "  global documents        # определяем глобальную переменную\n",
        "  if is_doc(doc_numb):\n",
        "    for el in documents:\n",
        "      if doc_numb in el.values():\n",
        "        old_owner = el['name']\n",
        "        el['name'] = input('Введите имя нового владельца документа: ')\n",
        "        new_owner = el['name']\n",
        "        print(f'Имя владельца изменено c {old_owner} на {new_owner}. Текущий список документов: ')\n",
        "  else:\n",
        "    print('Документ не найден в базе. Текущий список документов:')\n",
        "  finding_info()\n",
        "\n",
        "change_owner()"
      ],
      "metadata": {
        "colab": {
          "base_uri": "https://localhost:8080/"
        },
        "id": "xEt_CiMELJ6u",
        "outputId": "ea7bc6f5-e3af-4239-cc2a-063252e0678c"
      },
      "execution_count": null,
      "outputs": [
        {
          "output_type": "stream",
          "name": "stdout",
          "text": [
            "Введите номер документа: 11-2\n",
            "Введите имя нового владельца документа: Cheburashka\n",
            "Имя владельца изменено c Chippolino на Cheburashka. Текущий список документов: \n",
            "№: 2207 876234, тип: passport, владелец: Василий Гупкин,полка хранения: 1\n",
            "№: 10006, тип: insurance, владелец: Аристарх Павлов,полка хранения: 2\n",
            "№: 11-2, тип: invoice, владелец: Cheburashka,полка хранения: 3\n"
          ]
        }
      ]
    },
    {
      "cell_type": "markdown",
      "source": [
        "Итоговая программа:\n",
        "\n",
        "так как функции add_doc и delecte_doc используются в mooving_doc, поэтому результат их вызова вынесен в main"
      ],
      "metadata": {
        "id": "NLTYV-BkmldI"
      }
    },
    {
      "cell_type": "code",
      "source": [
        "def main():\n",
        "  \"\"\"\n",
        "  Команды для работы с программой:\n",
        "  p - поиск владельца по нмеру документа\n",
        "  s - поиск полки, на которой хранится документ\n",
        "  l -информация по всем документам\n",
        "  ads - добавить полку\n",
        "  ds - удалить полку\n",
        "  ad - добавить документ\n",
        "  d - удалить документ\n",
        "  m - переместить документ с текущей полки на другую\n",
        "  ch - изменение владельца документа\n",
        "  q - выход\n",
        "  \"\"\"\n",
        "  command = ''\n",
        "  while command != 'q':\n",
        "    command = input('Введите команду:')\n",
        "    if command == 'p':\n",
        "      finding_name()\n",
        "    elif command == 's':\n",
        "      finding_shelf()\n",
        "    elif command == 'l':\n",
        "      finding_info()\n",
        "    elif command == 'ads':\n",
        "      add_shelf()\n",
        "    elif command == 'ds':\n",
        "      delete_shelf()\n",
        "    elif command == 'ad':\n",
        "      add_doc()\n",
        "      if add_doc() == False:\n",
        "        print('Такой полки не существует. Добавьте полку командой as. Текущий список документов: ')\n",
        "      else:\n",
        "        print('Документ добавлен. Текущий список документов: ')\n",
        "      finding_info()\n",
        "    elif command == 'd':\n",
        "      delete_doc()\n",
        "      if delete_doc() == True:\n",
        "        print('Документ удален. Текущий список документов:')\n",
        "      else:\n",
        "        print('Документ не найден в базе. Текущий список документов: ')\n",
        "      finding_info()\n",
        "    elif command == 'm':\n",
        "      mooving_doc()\n",
        "    elif command == 'ch':\n",
        "      change_owner()\n",
        "    if command == 'q':\n",
        "      break\n",
        "main()"
      ],
      "metadata": {
        "colab": {
          "base_uri": "https://localhost:8080/"
        },
        "id": "pceXHUFfmn4H",
        "outputId": "da6b3253-0042-476f-b9cb-c4778c8d0ff3"
      },
      "execution_count": null,
      "outputs": [
        {
          "name": "stdout",
          "output_type": "stream",
          "text": [
            "Введите команду:ch\n",
            "Введите номер документа: 11-2\n",
            "Введите имя нового владельца документа: Pyatachok\n",
            "Имя владельца изменено c Cheburashka на Pyatachok. Текущий список документов: \n",
            "№: 2207 876234, тип: passport, владелец: Василий Гупкин,полка хранения: 1\n",
            "№: 10006, тип: insurance, владелец: Аристарх Павлов,полка хранения: 2\n",
            "№: 11-2, тип: invoice, владелец: Pyatachok,полка хранения: 3\n",
            "Введите команду:q\n"
          ]
        }
      ]
    }
  ]
}