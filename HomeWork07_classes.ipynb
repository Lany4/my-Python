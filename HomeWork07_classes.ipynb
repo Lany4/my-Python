{
  "nbformat": 4,
  "nbformat_minor": 0,
  "metadata": {
    "colab": {
      "provenance": []
    },
    "kernelspec": {
      "name": "python3",
      "display_name": "Python 3"
    },
    "language_info": {
      "name": "python"
    }
  },
  "cells": [
    {
      "cell_type": "code",
      "source": [
        "import requests"
      ],
      "metadata": {
        "id": "EKw9LZSvcTiR"
      },
      "execution_count": null,
      "outputs": []
    },
    {
      "cell_type": "markdown",
      "source": [
        "✅ **Задание 1**\n",
        "\n",
        "Напишите функцию, которая возвращает название валюты (поле ‘Name’) с максимальным значением курса с помощью сервиса www.cbr-xml-daily.ru...ly_json.js"
      ],
      "metadata": {
        "id": "nImg14ONcstt"
      }
    },
    {
      "cell_type": "code",
      "source": [
        "class Rate:\n",
        "    def __init__(self, format_='value'):\n",
        "        self.format = format_\n",
        "\n",
        "    def exchange_rates(self):\n",
        "        \"\"\"\n",
        "        Возвращает ответ сервиса с информацией о валютах в виде:\n",
        "\n",
        "        {\n",
        "            'AMD': {\n",
        "                'CharCode': 'AMD',\n",
        "                'ID': 'R01060',\n",
        "                'Name': 'Армянских драмов',\n",
        "                'Nominal': 100,\n",
        "                'NumCode': '051',\n",
        "                'Previous': 14.103,\n",
        "                'Value': 14.0879\n",
        "                },\n",
        "            ...\n",
        "        }\n",
        "        \"\"\"\n",
        "        self.r = requests.get('https://www.cbr-xml-daily.ru/daily_json.js')\n",
        "        return self.r.json()['Valute']\n",
        "\n",
        "    def make_format(self, currency):\n",
        "        \"\"\"\n",
        "        Возвращает информацию о валюте currency в двух вариантах:\n",
        "        - полная информация о валюте при self.format = 'full':\n",
        "        Rate('full').make_format('EUR')\n",
        "        {\n",
        "            'CharCode': 'EUR',\n",
        "            'ID': 'R01239',\n",
        "            'Name': 'Евро',\n",
        "            'Nominal': 1,\n",
        "            'NumCode': '978',\n",
        "            'Previous': 79.6765,\n",
        "            'Value': 79.4966\n",
        "        }\n",
        "\n",
        "        Rate('value').make_format('EUR')\n",
        "        79.4966\n",
        "        \"\"\"\n",
        "        response = self.exchange_rates()\n",
        "\n",
        "        if currency in response:\n",
        "            if self.format == 'full':\n",
        "                return response[currency]\n",
        "\n",
        "            if self.format == 'value':\n",
        "                return response[currency]['Value']\n",
        "\n",
        "        return 'Error'\n",
        "\n",
        "    def eur(self):\n",
        "        \"\"\"Возвращает курс евро на сегодня в формате self.format\"\"\"\n",
        "        return self.make_format('EUR')\n",
        "\n",
        "    def usd(self):\n",
        "        \"\"\"Возвращает курс доллара на сегодня в формате self.format\"\"\"\n",
        "        return self.make_format('USD')\n",
        "\n",
        "    def brl(self):\n",
        "        \"\"\"Возвращает курс бразильского реала на сегодня в формате self.format\"\"\"\n",
        "        return self.make_format('BRL')\n",
        "\n",
        "    def all_valutes(self):\n",
        "      \"\"\" Возвращает словарь {\"Валюта\" : курс} \"\"\"\n",
        "      res_dict = {}       #  словарь, где ключ - название валюты, значение - курс\n",
        "      for k, v in self.exchange_rates().items():\n",
        "        res_dict.setdefault(k, v.get('Value'))\n",
        "      return res_dict\n",
        "\n",
        "    def max_currency_name(self):\n",
        "        \"\"\"Получение названия валюты с максимальным value\"\"\"\n",
        "        av = self.all_valutes()\n",
        "        max_val = max(av, key = av.get)\n",
        "        print(max_val)\n",
        "\n"
      ],
      "metadata": {
        "id": "OspyGZECcxNC"
      },
      "execution_count": null,
      "outputs": []
    },
    {
      "cell_type": "code",
      "source": [
        "a = Rate()"
      ],
      "metadata": {
        "id": "iUihfC87bGZl"
      },
      "execution_count": null,
      "outputs": []
    },
    {
      "cell_type": "code",
      "source": [
        "a.max_currency_name()"
      ],
      "metadata": {
        "colab": {
          "base_uri": "https://localhost:8080/"
        },
        "id": "T94YBVWlyxSx",
        "outputId": "3b4c5920-d783-4be2-8c6b-52f7aaa3c4aa"
      },
      "execution_count": null,
      "outputs": [
        {
          "output_type": "stream",
          "name": "stdout",
          "text": [
            "XDR\n"
          ]
        }
      ]
    },
    {
      "cell_type": "markdown",
      "source": [
        "✅ **Задание 2**\n",
        "\n",
        "Добавьте в класс Rate параметр diff (со значениями True или False), который в случае значения True в методах курсов валют (eur, usd итд) будет возвращать не курс валюты, а изменение по сравнению в прошлым значением. Считайте, self.diff будет принимать значение True только при возврате значения курса. При отображении всей информации о валюте он не используется."
      ],
      "metadata": {
        "id": "_8UWJVcQlVcH"
      }
    },
    {
      "cell_type": "code",
      "source": [
        "class Rate:\n",
        "    def __init__(self, format_='value', flag = 'True'):\n",
        "        self.format = format_\n",
        "        self.check = flag\n",
        "\n",
        "    def exchange_rates(self):\n",
        "        \"\"\"\n",
        "        Возвращает ответ сервиса с информацией о валютах в виде:\n",
        "\n",
        "        {\n",
        "            'AMD': {\n",
        "                'CharCode': 'AMD',\n",
        "                'ID': 'R01060',\n",
        "                'Name': 'Армянских драмов',\n",
        "                'Nominal': 100,\n",
        "                'NumCode': '051',\n",
        "                'Previous': 14.103,\n",
        "                'Value': 14.0879\n",
        "                },\n",
        "            ...\n",
        "        }\n",
        "        \"\"\"\n",
        "        self.r = requests.get('https://www.cbr-xml-daily.ru/daily_json.js')\n",
        "        return self.r.json()['Valute']\n",
        "\n",
        "    def make_format(self, currency):\n",
        "        \"\"\"\n",
        "        Возвращает информацию о валюте currency в двух вариантах:\n",
        "        - полная информация о валюте при self.format = 'full':\n",
        "        Rate('full').make_format('EUR')\n",
        "        {\n",
        "            'CharCode': 'EUR',\n",
        "            'ID': 'R01239',\n",
        "            'Name': 'Евро',\n",
        "            'Nominal': 1,\n",
        "            'NumCode': '978',\n",
        "            'Previous': 79.6765,\n",
        "            'Value': 79.4966\n",
        "        }\n",
        "\n",
        "        Rate('value').make_format('EUR')\n",
        "        79.4966\n",
        "        \"\"\"\n",
        "        response = self.exchange_rates()\n",
        "\n",
        "        if currency in response:\n",
        "            if self.format == 'full':\n",
        "                return response[currency]\n",
        "\n",
        "            if self.format == 'value':\n",
        "              if self.check == 'True':\n",
        "                diff = response[currency]['Previous']-response[currency]['Value']\n",
        "                return diff\n",
        "              else:\n",
        "                return response[currency]['Value']\n",
        "\n",
        "        return 'Error'\n",
        "\n",
        "    def eur(self):\n",
        "        \"\"\"Возвращает курс евро на сегодня в формате self.format\"\"\"\n",
        "        return self.make_format('EUR')\n",
        "\n",
        "    def usd(self):\n",
        "        \"\"\"Возвращает курс доллара на сегодня в формате self.format\"\"\"\n",
        "        return self.make_format('USD')\n",
        "\n",
        "    def brl(self):\n",
        "        \"\"\"Возвращает курс бразильского реала на сегодня в формате self.format\"\"\"\n",
        "        return self.make_format('BRL')\n"
      ],
      "metadata": {
        "id": "cOW38y-TlaZJ"
      },
      "execution_count": null,
      "outputs": []
    },
    {
      "cell_type": "code",
      "source": [
        "Rate('value', 'False').usd()"
      ],
      "metadata": {
        "colab": {
          "base_uri": "https://localhost:8080/"
        },
        "id": "kovDwleu5-x4",
        "outputId": "6d76c340-6700-4821-e3f9-9d73f0909fa6"
      },
      "execution_count": null,
      "outputs": [
        {
          "output_type": "execute_result",
          "data": {
            "text/plain": [
              "90.9783"
            ]
          },
          "metadata": {},
          "execution_count": 146
        }
      ]
    },
    {
      "cell_type": "code",
      "source": [
        "Rate('value', 'True').usd()"
      ],
      "metadata": {
        "colab": {
          "base_uri": "https://localhost:8080/"
        },
        "id": "Wv01ocAv53xC",
        "outputId": "d714699b-b152-4124-bd6c-3b87ca085f97"
      },
      "execution_count": null,
      "outputs": [
        {
          "output_type": "execute_result",
          "data": {
            "text/plain": [
              "-0.9558000000000106"
            ]
          },
          "metadata": {},
          "execution_count": 147
        }
      ]
    },
    {
      "cell_type": "markdown",
      "source": [
        "✅ **Задание 3**\n",
        "\n",
        "Напишите класс Designer, который учитывает количество международных премий. Подсказки в коде занятия в разделе “Домашнее задание задача 3”.\n",
        "Комментарий по классу Designer такой:\n",
        "Напишите класс Designer, который учитывает количество международных премий для дизайнеров (из презентации: “Повышение на 1 грейд за каждые 7 баллов. Получение международной премии – это +2 балла”). Считайте, что при выходе на работу сотрудник уже имеет две премии и их количество не меняется со стажем (конечно если хотите это можно вручную менять).\n",
        "\n",
        "Класс Designer пишется по аналогии с классом Developer из материалов занятия."
      ],
      "metadata": {
        "id": "-ptEeoz2uBwU"
      }
    },
    {
      "cell_type": "code",
      "source": [
        "class Employee:\n",
        "    def __init__(self, name, seniority, bonus):\n",
        "        self.name = name\n",
        "        self.seniority = seniority\n",
        "        self.bonus = bonus\n",
        "\n",
        "        self.grade = 1\n",
        "\n",
        "    def grade_up(self):\n",
        "        \"\"\"Повышает уровень сотрудника\"\"\"\n",
        "        self.grade += 1\n",
        "\n",
        "    def publish_grade(self):\n",
        "        \"\"\"Публикация результатов аккредитации сотрудников\"\"\"\n",
        "        print(self.name, self.grade)\n",
        "\n",
        "    def check_if_it_is_time_for_upgrade(self):\n",
        "        pass"
      ],
      "metadata": {
        "id": "kVrNJX4kuFoD"
      },
      "execution_count": null,
      "outputs": []
    },
    {
      "cell_type": "code",
      "source": [
        "class Designer(Employee):\n",
        "    def __init__(self, name, seniority, bonus):\n",
        "        super().__init__(name, seniority, bonus)\n",
        "\n",
        "    def check_if_it_is_time_for_upgrade(self):\n",
        "        # Если, при выходе на работу сотрудник уже имеет 2 премии, добавим их при первой аккредитации\n",
        "        if self.seniority == 0:\n",
        "            self.seniority = 1 + self.bonus * 2\n",
        "        else:  # для каждой последущей аккредитации увеличиваем счетчик на 1\n",
        "            self.seniority += 1\n",
        "\n",
        "        # условие повышения сотрудника из презентации\n",
        "        if self.seniority % 7 == 0:\n",
        "            self.grade_up()\n",
        "\n",
        "        # публикация результатов\n",
        "        return self.publish_grade()"
      ],
      "metadata": {
        "id": "XPTCPTrL7Ifo"
      },
      "execution_count": null,
      "outputs": []
    },
    {
      "cell_type": "code",
      "source": [
        "sveta = Designer('Света', seniority = 0, bonus = 1)"
      ],
      "metadata": {
        "id": "BffdanSMAEf6"
      },
      "execution_count": null,
      "outputs": []
    },
    {
      "cell_type": "code",
      "source": [
        "for i in range(20):\n",
        "    sveta.check_if_it_is_time_for_upgrade()"
      ],
      "metadata": {
        "colab": {
          "base_uri": "https://localhost:8080/"
        },
        "id": "kNfln7ueAlyL",
        "outputId": "bec29131-c648-44d8-d241-5d0de6f569a0"
      },
      "execution_count": null,
      "outputs": [
        {
          "output_type": "stream",
          "name": "stdout",
          "text": [
            "Света 1\n",
            "Света 1\n",
            "Света 1\n",
            "Света 1\n",
            "Света 2\n",
            "Света 2\n",
            "Света 2\n",
            "Света 2\n",
            "Света 2\n",
            "Света 2\n",
            "Света 2\n",
            "Света 3\n",
            "Света 3\n",
            "Света 3\n",
            "Света 3\n",
            "Света 3\n",
            "Света 3\n",
            "Света 3\n",
            "Света 4\n",
            "Света 4\n"
          ]
        }
      ]
    }
  ]
}