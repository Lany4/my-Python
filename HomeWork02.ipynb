{
  "nbformat": 4,
  "nbformat_minor": 0,
  "metadata": {
    "colab": {
      "provenance": []
    },
    "kernelspec": {
      "name": "python3",
      "display_name": "Python 3"
    },
    "language_info": {
      "name": "python"
    }
  },
  "cells": [
    {
      "cell_type": "markdown",
      "source": [
        "✅**Задание 1**\n",
        "\n",
        "Дана переменная, в которой хранится слово из латинских букв. Напишите код, который выводит на экран:\n",
        "\n",
        "среднюю букву, если число букв в слове нечетное;\n",
        "две средних буквы, если число букв четное.\n",
        "Примеры работы программы:\n",
        "\n",
        "word = 'test'\n",
        "Результат:\n",
        "es\n",
        "\n",
        "word = 'testing'\n",
        "\n",
        "Результат:\n",
        "t"
      ],
      "metadata": {
        "id": "LxwuiCIGFGXg"
      }
    },
    {
      "cell_type": "code",
      "source": [
        "word = input()\n",
        "average_position = len(word) // 2    # Индекс середины строки для нечетного\n",
        "if len(word) % 2 == 0:\n",
        "  print(word[average_position - 1 : average_position + 1])     # Для четного задаем индекс элемента, стоящего перед средним и (+1), т.к. правая граница не включена\n",
        "else:\n",
        "  print(word[average_position])"
      ],
      "metadata": {
        "colab": {
          "base_uri": "https://localhost:8080/"
        },
        "id": "gBylz-63GFH7",
        "outputId": "6b0b2370-4960-44e2-b3dc-53a4cf3c08d7"
      },
      "execution_count": null,
      "outputs": [
        {
          "output_type": "stream",
          "name": "stdout",
          "text": [
            "testing\n",
            "t\n"
          ]
        }
      ]
    },
    {
      "cell_type": "code",
      "source": [
        "# в одну строку\n",
        "print(word[(len(word)-1)//2:(len(word)+2)//2])"
      ],
      "metadata": {
        "id": "eBsHAKf0kQJI"
      },
      "execution_count": null,
      "outputs": []
    },
    {
      "cell_type": "markdown",
      "source": [
        "✅**Задание 2**\n",
        "\n",
        "Напишите программу, которая последовательно запрашивает у пользователя числа (по одному за раз) и после первого нуля выводит сумму всех ранее введенных чисел.\n",
        "\n",
        "Примеры работы программы:\n",
        "\n",
        "Введите число:  \n",
        "1\n",
        "\n",
        "Введите число:  \n",
        "4\n",
        "\n",
        "Введите число:  \n",
        "6\n",
        "\n",
        "Введите число:  \n",
        "0\n",
        "Результат:\n",
        "11\n",
        "\n",
        "Введите число:  \n",
        "0\n",
        "Результат:\n",
        "0"
      ],
      "metadata": {
        "id": "MZJ5BmjlFQOs"
      }
    },
    {
      "cell_type": "code",
      "source": [
        "summa = 0\n",
        "temp = -1     # Введем временную переменную\n",
        "while temp != 0:\n",
        "  number = int(input('Введите число: '))\n",
        "  if number == 0:\n",
        "    break     # Прерывам цикл6\n",
        "  else:\n",
        "    temp = number     # Во временную переменную присвоим наше число\n",
        "    summa += number\n",
        "print('Результат: ', summa)"
      ],
      "metadata": {
        "colab": {
          "base_uri": "https://localhost:8080/"
        },
        "id": "Onadat-6KCNs",
        "outputId": "9b7ca589-8d5c-46bc-8a87-3d993c670e90"
      },
      "execution_count": null,
      "outputs": [
        {
          "output_type": "stream",
          "name": "stdout",
          "text": [
            "Введите число: 0\n",
            "Результат:  0\n"
          ]
        }
      ]
    },
    {
      "cell_type": "code",
      "source": [
        "# Проще\n",
        "number = True\n",
        "sum_ = 0\n",
        "while number != 0:\n",
        "   number = int(input('Введите число '))\n",
        "   sum_ += number\n",
        "print(sum_)"
      ],
      "metadata": {
        "id": "URXBprZnkZzi"
      },
      "execution_count": null,
      "outputs": []
    },
    {
      "cell_type": "markdown",
      "source": [
        "✅**Задание 3**\n",
        "\n",
        "Мы делаем MVP dating-сервиса, и у нас есть список парней и девушек.\n",
        "Выдвигаем гипотезу: лучшие рекомендации мы получим, если просто отсортируем имена по алфавиту и познакомим людей с одинаковыми индексами после сортировки! Но мы не будем никого знакомить, если кто-то может остаться без пары:\n",
        "\n",
        "Примеры работы программы:\n",
        "\n",
        "boys = ['Peter', 'Alex', 'John', 'Arthur', 'Richard']\n",
        "girls = ['Kate', 'Liza', 'Kira', 'Emma', 'Trisha']\n",
        "Результат:\n",
        "\n",
        "Идеальные пары:  \n",
        "Alex и Emma  \n",
        "Arthur и Kate  \n",
        "John и Kira  \n",
        "Peter и Liza  \n",
        "Richard и Trisha\n",
        "boys = ['Peter', 'Alex', 'John', 'Arthur', 'Richard', 'Michael']\n",
        "girls = ['Kate', 'Liza', 'Kira', 'Emma', 'Trisha']\n",
        "Результат:\n",
        "Внимание, кто-то может остаться без пары!"
      ],
      "metadata": {
        "id": "aRGDDoH5FS3e"
      }
    },
    {
      "cell_type": "code",
      "source": [
        "boys = input('Введите мужские имена через запятую: ')#\n",
        "b = boys.replace(' ','').split(',')      # избавимся от всех пробелов, переведем строку в список\n",
        "girls = input('Введите женские имена через запятую: ')\n",
        "g = girls.replace(' ','').split(',')\n",
        "if len(b) == len(g):       # если длины списков равны:\n",
        "  b.sort()         # сортируем списки\n",
        "  g.sort()\n",
        "  final = zip(b, g)     # применяем zip для группировки списков, на выходе получаем кортеж\n",
        "  final = list(final)     # преобразовываем кортеж в список\n",
        "  print('Идеальные пары :')\n",
        "  for i in range(len(final)):\n",
        "    print(final[i][0], 'и', final[i][1])     # выводим первый и второй элемент i-го элемента кортежа\n",
        "else:\n",
        "  print('Внимание, кто-то может остаться без пары!')"
      ],
      "metadata": {
        "colab": {
          "base_uri": "https://localhost:8080/"
        },
        "id": "BRa48TVFNvNf",
        "outputId": "5228da3f-689e-44b7-e6d7-72e70077a643"
      },
      "execution_count": null,
      "outputs": [
        {
          "output_type": "stream",
          "name": "stdout",
          "text": [
            "Введите мужские имена через запятую: Peter,Alex,   John,A rthur, Richard \n",
            "Введите женские имена через запятую: Kate,   Lisa,K ira,  Emma,Trisha\n",
            "Идеальные пары :\n",
            "Alex и Emma\n",
            "Arthur и Kate\n",
            "John и Kira\n",
            "Peter и Lisa\n",
            "Richard и Trisha\n"
          ]
        }
      ]
    },
    {
      "cell_type": "markdown",
      "source": [
        "✅**Задание 4**\n",
        "\n",
        "У нас есть список, содержащий информацию о среднедневной температуре в Фаренгейтах за произвольный период по странам (структура данных в примере). Необходимо написать код, который рассчитает среднюю температуру за период в Цельсиях(!) для каждой страны.\n",
        "\n",
        "Пример работы программы:\n",
        "\n",
        "countries_temperature = [\n",
        "    ['Таиланд', [75.2, 77, 78.8, 73.4, 68, 75.2, 77]],\n",
        "    ['Германия', [57.2, 55.4, 59, 59, 53.6]],\n",
        "    ['Россия', [35.6, 37.4, 39.2, 41, 42.8, 39.2, 35.6]],\n",
        "    ['Польша', [50, 50, 53.6, 57.2, 55.4, 55.4]]\n",
        "]\n",
        "Результат:\n",
        "\n",
        "Средняя температура в странах:\n",
        "Таиланд  -  23.9 С\n",
        "Германия  -  13.8 С\n",
        "Россия  -  3.7 С\n",
        "Польша  -  12.0 С"
      ],
      "metadata": {
        "id": "R3x5-_TEFWRR"
      }
    },
    {
      "cell_type": "code",
      "source": [
        "countries_temperature = [ ['Таиланд', [75.2, 77, 78.8, 73.4, 68, 75.2, 77]], ['Германия', [57.2, 55.4, 59, 59, 53.6]],\n",
        " ['Россия', [35.6, 37.4, 39.2, 41, 42.8, 39.2, 35.6]], ['Польша', [50, 50, 53.6, 57.2, 55.4, 55.4]] ]\n",
        "fin = []     #  Заводим пустой список\n",
        "for i in range(len(countries_temperature)):     # Для каждоко списка в списке\n",
        "  fin.append(countries_temperature[i][0] + '-')     # Берем первый элемен вложенного списка (Страну) и добавляем в новый список, добавляем тире\n",
        "  temperature_far = countries_temperature[i][1]     # Второй элемент вложенного списка переприсваиваем во временную переменную\n",
        "  temperature_cel = []     # Список для переведенной переменной в Цельсии\n",
        "  for i in range(len(temperature_far)):      # Для списка температур в Фаренгейтах\n",
        "    temperature_cel.append(round((temperature_far[i] - 32) * (5 / 9), 2))     # Каждый элемент переводим по формуле и добавляем в список с цельсиями\n",
        "  fin.append(round(sum(temperature_cel)/len(temperature_cel), 1))     # добавляем в результирующий список среднее по списку с Цельсиямиб округляем\n",
        "  fin.append('C')     # После средней температуры добавляем \"С\"\n",
        "\n",
        "print(*fin)"
      ],
      "metadata": {
        "colab": {
          "base_uri": "https://localhost:8080/"
        },
        "id": "k1qkNrT_n-bs",
        "outputId": "7f1e0e51-e2b3-4ac6-b285-f78129265f36"
      },
      "execution_count": null,
      "outputs": [
        {
          "output_type": "stream",
          "name": "stdout",
          "text": [
            "Таиланд- 23.9 C Германия- 13.8 C Россия- 3.7 C Польша- 12.0 C\n"
          ]
        }
      ]
    },
    {
      "cell_type": "code",
      "source": [
        "# Второе решение через f - строки\n",
        "\n",
        "countries_temperature = [ ['Таиланд', [75.2, 77, 78.8, 73.4, 68, 75.2, 77]], ['Германия', [57.2, 55.4, 59, 59, 53.6]],\n",
        " ['Россия', [35.6, 37.4, 39.2, 41, 42.8, 39.2, 35.6]], ['Польша', [50, 50, 53.6, 57.2, 55.4, 55.4]] ]\n",
        "a = ''\n",
        "for i in range(len(countries_temperature)):\n",
        "  country = countries_temperature[i][0]\n",
        "  temperature_far = countries_temperature[i][1]\n",
        "  temperature_cel = [(round((temperature_far[i] - 32) * (5 / 9), 2)) for i in range(len(temperature_far))]\n",
        "  average_temperature = round(sum(temperature_cel)/len(temperature_cel), 1)\n",
        "  a += f\"{country}- {average_temperature} C \"\n",
        "print(a)\n",
        "  # print(f\"{country}- {average_temperature} C\")      # Каждая страна с новой строки\n",
        "\n",
        "\n"
      ],
      "metadata": {
        "colab": {
          "base_uri": "https://localhost:8080/"
        },
        "id": "Su72j1t1u_5V",
        "outputId": "7edfe145-f7c6-4e87-d572-f5df93b0c02d"
      },
      "execution_count": null,
      "outputs": [
        {
          "output_type": "stream",
          "name": "stdout",
          "text": [
            "Таиланд- 23.9 C Германия- 13.8 C Россия- 3.7 C Польша- 12.0 C \n"
          ]
        }
      ]
    },
    {
      "cell_type": "markdown",
      "source": [
        "✅**Задание 5 (необязательное)**\n",
        "\n",
        "Имеется список с транспортными номерами. Необходимо написать код, который проверит каждый номер на валидность (1 буква, 3 цифры, 2 буквы, 2-3 цифры). Обратите внимание, что не все буквы кириллического алфавита используются в транспортных номерах.\n",
        "\n",
        "Если номер валиден, то вывести его в нужном формавте (пример ниже), а если не валиден — вывести текст. При решении помогут регулярные выражения, с которыми будет знакомство на практике.\n",
        "\n",
        "Примеры работы программы:\n",
        "\n",
        "car_ids = ['А222ВС96', 'АБ22ВВ193']\n",
        "\n",
        "Результат:\n",
        "\n",
        "Номер А222ВС валиден. Регион: 96\n",
        "Номер АБ22ВВ193 не валиден"
      ],
      "metadata": {
        "id": "5zJddMGqFYj2"
      }
    },
    {
      "cell_type": "code",
      "source": [
        "import re\n",
        "cars_id = input('Введите номера через запятую: ')\n",
        "cars_ids = cars_id.replace(' ','').split(',')     # Уберем лишние пробелы, которые могут появиться при вводе, и создадим список\n",
        "pattern = r'^[а-яА-Яa-zA-Z]\\d\\d\\d[а-яА-Яa-zA-Z][а-яА-Яa-zA-Z]\\d{2,3}$'     # Зададим паттерн регулярными выражениями\n",
        "for i in range(len(cars_ids)):     # Для каждого элемента списка\n",
        "  if  len(re.findall(pattern, cars_ids[i])) != 0 :     # Если длина возвращаемого списка с поиском не равна 0\n",
        "    print(f'Номер {cars_ids[i][:6]} валиден. Регион: {cars_ids[i][6:]}')     # Выведем информацию\n",
        "  else:\n",
        "    print(f'Номер {cars_ids[i]} не валиден')     # Если длина возвращаемого списка равна 0, значит в строке нет паттерна регулярного выражения\n",
        "\n",
        ""
      ],
      "metadata": {
        "colab": {
          "base_uri": "https://localhost:8080/"
        },
        "id": "6qY8VzAjbJKG",
        "outputId": "662705c1-adf4-4804-c259-ab87208b888b"
      },
      "execution_count": null,
      "outputs": [
        {
          "output_type": "stream",
          "name": "stdout",
          "text": [
            "Введите номера через запятую: А222В С96, АБ22ВВ193, А222ВС9633, AB365df123\n",
            "Номер А222ВС валиден. Регион: 96\n",
            "Номер АБ22ВВ193 не валиден\n",
            "Номер А222ВС9633 не валиден\n",
            "Номер AB365df123 не валиден\n"
          ]
        }
      ]
    },
    {
      "cell_type": "markdown",
      "source": [
        "попробую еще раз...\n",
        "сразу возник вопрос: насколько корректна такая конструкция, когда нам строку со входа нужно и приводить к одному регистру и сплитовать и удалять пробелы... не очень поняла как это делать \"красиво\"\n",
        "\n",
        "cars_id = input('Введите номера через запятую: ')\n",
        "\n",
        "cars_ids = cars_id.replace(' ','').upper()   \n",
        "\n",
        "cars_ids = cars_ids.split(',')"
      ],
      "metadata": {
        "id": "McNn8GokVz2D"
      }
    },
    {
      "cell_type": "code",
      "source": [
        "import re\n",
        "cars_id = input('Введите номера через запятую: ')\n",
        "cars_ids = cars_id.replace(' ','').upper()     # Уберем лишние пробелы, которые могут появиться при вводе и переведем в верхний регистр\n",
        "cars_ids = cars_ids.split(',')     # создадим список\n",
        " # На всякий случай 2 языка\n",
        "pattern = r'^[АВЕКМНОРСТУХABEKMHOPCTYX]\\d\\d\\d[АВЕКМНОРСТУХABEKMHOPCTYX][АВЕКМНОРСТУХABEKMHOPCTYX]\\d{2,3}$'     # Зададим паттерн регулярными выражениями\n",
        "for i in range(len(cars_ids)):     # Для каждого элемента списка\n",
        "  if  len(re.findall(pattern, cars_ids[i])) != 0 :     # Если длина возвращаемого списка с поиском не равна 0\n",
        "    print(f'Номер {cars_ids[i][:6]} валиден. Регион: {cars_ids[i][6:]}')     # Выведем информацию\n",
        "  else:\n",
        "    print(f'Номер {cars_ids[i]} не валиден')     # Если длина возвращаемого списка равна 0, значит в строке нет паттерна регулярного выражения"
      ],
      "metadata": {
        "colab": {
          "base_uri": "https://localhost:8080/"
        },
        "id": "ConItoRiTNI5",
        "outputId": "81d20bcd-9e4c-4cc0-b721-f017daba6551"
      },
      "execution_count": null,
      "outputs": [
        {
          "output_type": "stream",
          "name": "stdout",
          "text": [
            "Введите номера через запятую: А222В С96, АБ22ВВ193, А222ВС9633, AB365df123\n",
            "['А222ВС96', 'АБ22ВВ193', 'А222ВС9633', 'AB365DF123']\n",
            "Номер А222ВС валиден. Регион: 96\n",
            "Номер АБ22ВВ193 не валиден\n",
            "Номер А222ВС9633 не валиден\n",
            "Номер AB365DF123 не валиден\n"
          ]
        }
      ]
    },
    {
      "cell_type": "markdown",
      "source": [
        "✅**Задание 6 (необязательное)**\n",
        "\n",
        "Дан поток логов по количеству просмотренных страниц для каждого пользователя (пользователь,дата;просмотры). Вам необходимо написать алгоритм, который считает среднее значение просмотров на пользователя. Т. е. надо посчитать отношение суммы всех просмотров к количеству уникальных пользователей. И тут регулярные выражения облегчат немного реализацию.\n",
        "\n",
        "Примеры работы программы:\n",
        "\n",
        "stream = [\n",
        "    'user4,2021-01-01;3',\n",
        "    'user3,2022-01-07;4',\n",
        "    'user2,2022-03-29;1',\n",
        "    'user1,2020-04-04;13',\n",
        "    'user2,2022-01-05;7',\n",
        "    'user1,2021-06-14;4',\n",
        "    'user3,2022-07-02;10',\n",
        "    'user4,2021-03-21;19',\n",
        "    'user4,2022-03-22;4',\n",
        "    'user4,2022-04-22;8',\n",
        "    'user4,2021-05-03;9',\n",
        "    'user4,2022-05-11;11'\n",
        "]\n",
        "Результат:\n",
        "Среднее количество просмотров на уникального пользователя: 23.25\n",
        "\n",
        "stream = [\n",
        "    'user100,2022-01-01;150',\n",
        "    'user99,2022-01-07;205',\n",
        "    'user1001,2022-03-29;81'\n",
        "]\n",
        "Результат:\n",
        "Среднее количество просмотров на уникального пользователя: 145.33"
      ],
      "metadata": {
        "id": "BOvj3QMtFa0m"
      }
    },
    {
      "cell_type": "code",
      "source": [
        "import re\n",
        "\n",
        "stream = ['user4,2021-01-01;3', 'user3,2022-01-07;4', 'user2,2022-03-29;1', 'user1,2020-04-04;13', 'user2,2022-01-05;7', 'user1,2021-06-14;4', 'user3,2022-07-02;10',\n",
        "          'user4,2021-03-21;19', 'user4,2022-03-22;4', 'user4,2022-04-22;8', 'user4,2021-05-03;9', 'user4,2022-05-11;11']\n",
        "sum_views = 0\n",
        "pattern_user = r'[a-z]{4}\\d+'\n",
        "viwes_with_pattern = re.findall(r';\\d+', ','.join(stream))              # список совпадений по паттерну вместе с ;  join - потому что на вход findall подается строка, а не список\n",
        "\n",
        "for i in range(len(viwes_with_pattern)):\n",
        "  sum_views += int(''.join(re.findall(r'\\d+', viwes_with_pattern[i])))  # из списка найденных паттернов поэлементно достаем все числа, приводим к инт и суммируем\n",
        "\n",
        "list_of_users = re.findall(pattern_user, ','.join(stream))                #  список с пользователями\n",
        "unique_user = []                  # пустой список для уникальных пользователей\n",
        "for el in list_of_users:           # для каждого элемента в общем списке пользователей\n",
        "  if el in unique_user:            # проверим, есть ли он в списке уникальных\n",
        "    pass                    #  если есть, пас\n",
        "  else:\n",
        "    unique_user.append(el)         # добавим если нет и получим список только уникальных пользователей\n",
        "\n",
        "print(f'Среднее количество просмотров на уникального пользователя: {round(sum_views / len(unique_user), 2)}')\n"
      ],
      "metadata": {
        "id": "dpqFsBjhPeHs",
        "outputId": "324c165c-b983-4b72-d99c-4137d39255e8",
        "colab": {
          "base_uri": "https://localhost:8080/"
        }
      },
      "execution_count": null,
      "outputs": [
        {
          "output_type": "stream",
          "name": "stdout",
          "text": [
            "Среднее количество просмотров на уникального пользователя: 23.25\n"
          ]
        }
      ]
    },
    {
      "cell_type": "code",
      "source": [
        "total_views = sum([int(re.split('[,;]', element)[2]) for element in stream])\n",
        "no_of_users = len(set([re.split('[,;]', element)[0] for element in stream]))\n",
        "\n",
        "print(f'Среднее число просмотров на уникального пользователя: {total_views / no_of_users :.2f}')"
      ],
      "metadata": {
        "id": "yYnEc8Ghk3ZI"
      },
      "execution_count": null,
      "outputs": []
    }
  ]
}