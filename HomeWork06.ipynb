{
  "nbformat": 4,
  "nbformat_minor": 0,
  "metadata": {
    "colab": {
      "provenance": []
    },
    "kernelspec": {
      "name": "python3",
      "display_name": "Python 3"
    },
    "language_info": {
      "name": "python"
    }
  },
  "cells": [
    {
      "cell_type": "code",
      "source": [
        "from datetime import datetime\n",
        "from datetime import timedelta"
      ],
      "metadata": {
        "id": "EKw9LZSvcTiR"
      },
      "execution_count": null,
      "outputs": []
    },
    {
      "cell_type": "markdown",
      "source": [
        "✅**Задание 1**\n",
        "\n",
        "Печатные газеты использовали свой формат дат для каждого выпуска. Для каждой газеты из списка напишите формат указанной даты для перевода в объект datetime:\n",
        "The Moscow Times — Wednesday, October 2, 2002\n",
        "The Guardian — Friday, 11.10.13\n",
        "Daily News — Thursday, 18 August 1977"
      ],
      "metadata": {
        "id": "nImg14ONcstt"
      }
    },
    {
      "cell_type": "code",
      "source": [
        "\n",
        "date_The_Moscow_Times = 'Wednesday, October 2, 2002'\n",
        "date_The_Guardian = 'Friday, 11.10.13'\n",
        "date_Daily_News = 'Thursday, 18 August 1977'\n",
        "\n",
        "print(datetime.strptime(date_The_Moscow_Times, '%A, %B %d, %Y'))\n",
        "print(datetime.strptime(date_The_Guardian, '%A,  %d.%m.%y'))\n",
        "print(datetime.strptime(date_Daily_News, '%A, %d %B %Y'))\n",
        "\n",
        "\n",
        "\n",
        "\n"
      ],
      "metadata": {
        "id": "OspyGZECcxNC",
        "colab": {
          "base_uri": "https://localhost:8080/"
        },
        "outputId": "a81e7a21-17a9-40b7-a396-15bfadeef938"
      },
      "execution_count": null,
      "outputs": [
        {
          "output_type": "stream",
          "name": "stdout",
          "text": [
            "2002-10-02 00:00:00\n",
            "2013-10-11 00:00:00\n",
            "1977-08-18 00:00:00\n"
          ]
        }
      ]
    },
    {
      "cell_type": "markdown",
      "source": [
        "✅ **Задание 2**\n",
        "\n",
        "Дан поток дат в формате YYYY-MM-DD, в которых встречаются некорректные значения:\n",
        " stream = [‘2018-04-02’, ‘2018-02-29’, ‘2018-19-02’]\n",
        "\n",
        "Напишите функцию, которая проверяет эти даты на корректность. То есть для каждой даты возвращает True — дата корректна или False — некорректная."
      ],
      "metadata": {
        "id": "_8UWJVcQlVcH"
      }
    },
    {
      "cell_type": "code",
      "source": [
        "# для проверки каждой даты\n",
        "stream = ['2018-04-02', '2018-02-29', '2018-19-02']\n",
        "\n",
        "def date_parse(date):\n",
        "  try:\n",
        "    valid_date = datetime.strptime(el, '%Y-%m-%d')\n",
        "    return True\n",
        "  except:\n",
        "    return False\n",
        "\n",
        "for el in stream:\n",
        "  print(el, date_parse(el))\n"
      ],
      "metadata": {
        "id": "cOW38y-TlaZJ",
        "colab": {
          "base_uri": "https://localhost:8080/"
        },
        "outputId": "3948f5a4-f445-4cdb-c79c-52fbad20ce93"
      },
      "execution_count": null,
      "outputs": [
        {
          "output_type": "stream",
          "name": "stdout",
          "text": [
            "2018-04-02 True\n",
            "2018-02-29 False\n",
            "2018-19-02 False\n"
          ]
        }
      ]
    },
    {
      "cell_type": "code",
      "source": [
        "# для проверки потока\n",
        "stream = ['2018-04-02', '2018-02-29', '2018-19-02']\n",
        "\n",
        "def date_parse(list_date):\n",
        "  for date in list_date:\n",
        "    try:\n",
        "      valid_date = datetime.strptime(date, '%Y-%m-%d')\n",
        "      print(True)\n",
        "    except:\n",
        "      print(False)\n",
        "date_parse(stream)"
      ],
      "metadata": {
        "colab": {
          "base_uri": "https://localhost:8080/"
        },
        "id": "zfDTZiTCk56x",
        "outputId": "186ffe17-eaf7-46f3-96d3-4a8b14351b70"
      },
      "execution_count": null,
      "outputs": [
        {
          "output_type": "stream",
          "name": "stdout",
          "text": [
            "True\n",
            "False\n",
            "False\n"
          ]
        }
      ]
    },
    {
      "cell_type": "markdown",
      "source": [
        "✅ **Задание 3**\n",
        "\n",
        "Напишите функцию date_range, которая возвращает список дат за период от start_date до end_date. Даты должны вводиться в формате YYYY-MM-DD. В случае неверного формата или при start_date > end_date должен возвращаться пустой список."
      ],
      "metadata": {
        "id": "-ptEeoz2uBwU"
      }
    },
    {
      "cell_type": "code",
      "source": [
        "# не поняла смысл фразы \"пустой список\", поэтому два решения.\n",
        "# Первое для вывода дат в столбик (списком же)\n",
        "# Второе через list\n",
        "start = input('Введите дату начала списка дат в формате ГГГГ-ММ-ДД  ')\n",
        "end = input('Введите дату конца списка дат в формате ГГГГ-ММ-ДД  ')\n",
        "\n",
        "def date_range(start, end):\n",
        "\n",
        "  \"\"\"\n",
        "  Функция возвращает список дат между двумя заданными датами или пустой\n",
        "  список в случае неверного формата или start_date > end_date.\n",
        "  \"\"\"\n",
        "\n",
        "  try:\n",
        "    start_date = datetime.strptime(start, '%Y-%m-%d')   # Пытаемся переводить дату в формат, если ошибка, отработает except\n",
        "    end_date = datetime.strptime(end, '%Y-%m-%d')\n",
        "    if start_date <= end_date:     # если дата начала <= дате конца,\n",
        "      date_ = start_date     # положим дату начала в новую переменную\n",
        "\n",
        "      print(date_.strftime('%Y-%m-%d') )\n",
        "      while date_ <= end_date:     #  пока новая дата <= дате конца\n",
        "        print(date_.strftime('%Y-%m-%d'))     # печатаем новую переменную\n",
        "        date_ += timedelta(days=1)     # добавляем 1 день к новой переменной\n",
        "    else:\n",
        "      print('Указан не верный промежуток')\n",
        "  except:\n",
        "    print('Даты указаны не корректно')\n",
        "\n",
        "date_range(start, end)"
      ],
      "metadata": {
        "colab": {
          "base_uri": "https://localhost:8080/"
        },
        "id": "kVrNJX4kuFoD",
        "outputId": "f981b04c-7c8f-45dc-fdc3-64f06f1e7400"
      },
      "execution_count": null,
      "outputs": [
        {
          "output_type": "stream",
          "name": "stdout",
          "text": [
            "Введите дату начала списка дат в формате ГГГГ-ММ-ДД  2020-01-01\n",
            "Введите дату конца списка дат в формате ГГГГ-ММ-ДД  2020-01-05\n",
            "2020-01-01\n",
            "2020-01-01\n",
            "2020-01-02\n",
            "2020-01-03\n",
            "2020-01-04\n",
            "2020-01-05\n"
          ]
        }
      ]
    },
    {
      "cell_type": "code",
      "source": [
        "start = input('Введите дату начала списка дат в формате ГГГГ-ММ-ДД  ')\n",
        "end = input('Введите дату конца списка дат в формате ГГГГ-ММ-ДД  ')\n",
        "\n",
        "def date_range(start, end):\n",
        "  \"\"\"\n",
        "  Функция возвращает список дат между двумя заданными датами или пустой\n",
        "  список в случае неверного формата или start_date > end_date.\n",
        "  \"\"\"\n",
        "  list_of_date = []     # Заведем список\n",
        "  try:\n",
        "    start_date = datetime.strptime(start, '%Y-%m-%d')     # Пытаемся переводить дату в формат, если ошибка, отработает except\n",
        "    end_date = datetime.strptime(end, '%Y-%m-%d')\n",
        "    if start_date <= end_date:     # если дата начала <= дате конца,\n",
        "      date_ = start_date     # положим дату начала в новую переменную\n",
        "      while date_ <= end_date:      #  пока новая переменная <= дате конца\n",
        "        list_of_date.append(date_.strftime('%Y-%m-%d'))     # добавляем в список новую переменную\n",
        "        date_ += timedelta(days=1)     # добавляем 1 день к новой переменной\n",
        "      print(*list_of_date, sep = '\\n')     # печатаем список\n",
        "  except:\n",
        "    print(*list_of_date)\n",
        "\n",
        "date_range(start, end)"
      ],
      "metadata": {
        "colab": {
          "base_uri": "https://localhost:8080/"
        },
        "id": "iaOo4rGQcRRa",
        "outputId": "1c3d9f78-3bef-4d22-e505-d311681502a1"
      },
      "execution_count": null,
      "outputs": [
        {
          "output_type": "stream",
          "name": "stdout",
          "text": [
            "Введите дату начала списка дат в формате ГГГГ-ММ-ДД  2020-01-01\n",
            "Введите дату конца списка дат в формате ГГГГ-ММ-ДД  2020-01-05\n",
            "2020-01-01\n",
            "2020-01-02\n",
            "2020-01-03\n",
            "2020-01-04\n",
            "2020-01-05\n"
          ]
        }
      ]
    },
    {
      "cell_type": "markdown",
      "source": [
        "✅ **Задание 4 (необязательное)**\n",
        "\n",
        "Ваш коллега прислал код функции:\n",
        "\n",
        "DEFAULT_USER_COUNT = 3\n",
        "\n",
        "def delete_and_return_last_user(region, default_list=[‘A100’, ‘A101’, ‘A102’]):\n",
        "\"\"“\n",
        "Удаляет из списка default_list последнего пользователя\n",
        "и возвращает ID нового последнего пользователя.\n",
        "”\"\"\n",
        "element_to_delete = default_list[-1]\n",
        "default_list.remove(element_to_delete)\n",
        "\n",
        "1\n",
        "return default_list[DEFAULT_USER_COUNT-2]\n",
        "При однократном вызове этой функции всё работает корректно:\n",
        "delete_and_return_last_user(1)\n",
        "‘A101’\n",
        "\n",
        "Однако при повторном вызове получается ошибка IndexError: list index out of range.\n",
        "\n",
        "Задание:\n",
        "\n",
        "Что значит ошибка list index out of range?\n",
        "Почему при первом запуске функция работает корректно, а при втором — нет?"
      ],
      "metadata": {
        "id": "l35NoDuUuGye"
      }
    },
    {
      "cell_type": "code",
      "source": [
        "DEFAULT_USER_COUNT = 3\n",
        "def delete_and_return_last_user(region, default_list=['A100', 'A101', 'A102']):\n",
        "    \"\"\"\"\" Удаляет из списка default_list последнего пользователя и возвращает ID нового последнего пользователя. \"\"\"\n",
        "    element_to_delete = default_list[-1]\n",
        "    default_list.remove(element_to_delete)\n",
        "    return default_list[DEFAULT_USER_COUNT-2]\n",
        "\n",
        "delete_and_return_last_user(1)"
      ],
      "metadata": {
        "colab": {
          "base_uri": "https://localhost:8080/",
          "height": 36
        },
        "id": "jGMngqpEuL1v",
        "outputId": "13ca3883-b054-46b4-e1d3-9497a3c31f1f"
      },
      "execution_count": null,
      "outputs": [
        {
          "output_type": "execute_result",
          "data": {
            "text/plain": [
              "'A101'"
            ],
            "application/vnd.google.colaboratory.intrinsic+json": {
              "type": "string"
            }
          },
          "metadata": {},
          "execution_count": 67
        }
      ]
    },
    {
      "cell_type": "code",
      "source": [
        "delete_and_return_last_user(1)"
      ],
      "metadata": {
        "colab": {
          "base_uri": "https://localhost:8080/",
          "height": 287
        },
        "id": "oKjr_A15ijoR",
        "outputId": "29f4849f-146e-47af-b52b-7c35f57f11df"
      },
      "execution_count": null,
      "outputs": [
        {
          "output_type": "error",
          "ename": "IndexError",
          "evalue": "ignored",
          "traceback": [
            "\u001b[0;31m---------------------------------------------------------------------------\u001b[0m",
            "\u001b[0;31mIndexError\u001b[0m                                Traceback (most recent call last)",
            "\u001b[0;32m<ipython-input-68-bfb6c4f8c48e>\u001b[0m in \u001b[0;36m<cell line: 1>\u001b[0;34m()\u001b[0m\n\u001b[0;32m----> 1\u001b[0;31m \u001b[0mdelete_and_return_last_user\u001b[0m\u001b[0;34m(\u001b[0m\u001b[0;36m1\u001b[0m\u001b[0;34m)\u001b[0m\u001b[0;34m\u001b[0m\u001b[0;34m\u001b[0m\u001b[0m\n\u001b[0m",
            "\u001b[0;32m<ipython-input-67-d941b37fc520>\u001b[0m in \u001b[0;36mdelete_and_return_last_user\u001b[0;34m(region, default_list)\u001b[0m\n\u001b[1;32m      4\u001b[0m     \u001b[0melement_to_delete\u001b[0m \u001b[0;34m=\u001b[0m \u001b[0mdefault_list\u001b[0m\u001b[0;34m[\u001b[0m\u001b[0;34m-\u001b[0m\u001b[0;36m1\u001b[0m\u001b[0;34m]\u001b[0m\u001b[0;34m\u001b[0m\u001b[0;34m\u001b[0m\u001b[0m\n\u001b[1;32m      5\u001b[0m     \u001b[0mdefault_list\u001b[0m\u001b[0;34m.\u001b[0m\u001b[0mremove\u001b[0m\u001b[0;34m(\u001b[0m\u001b[0melement_to_delete\u001b[0m\u001b[0;34m)\u001b[0m\u001b[0;34m\u001b[0m\u001b[0;34m\u001b[0m\u001b[0m\n\u001b[0;32m----> 6\u001b[0;31m     \u001b[0;32mreturn\u001b[0m \u001b[0mdefault_list\u001b[0m\u001b[0;34m[\u001b[0m\u001b[0mDEFAULT_USER_COUNT\u001b[0m\u001b[0;34m-\u001b[0m\u001b[0;36m2\u001b[0m\u001b[0;34m]\u001b[0m\u001b[0;34m\u001b[0m\u001b[0;34m\u001b[0m\u001b[0m\n\u001b[0m\u001b[1;32m      7\u001b[0m \u001b[0;34m\u001b[0m\u001b[0m\n\u001b[1;32m      8\u001b[0m \u001b[0mdelete_and_return_last_user\u001b[0m\u001b[0;34m(\u001b[0m\u001b[0;36m1\u001b[0m\u001b[0;34m)\u001b[0m\u001b[0;34m\u001b[0m\u001b[0;34m\u001b[0m\u001b[0m\n",
            "\u001b[0;31mIndexError\u001b[0m: list index out of range"
          ]
        }
      ]
    },
    {
      "cell_type": "markdown",
      "source": [
        "Данная ошибка означает, что элемента с таким индексом не существует. Функция в первый проход удаляет элемент с индексом 2 (или -1 с конца) и возвращает элемент с индексом 1 (он стал последним). Во второй проход она удаляет элемент с индексом 1 и не может вывести элемент с индексом 1, потому что его нет, остался один элемент с индексом 0.\n",
        "В последней строке необходимо изменить\n",
        "*return default_list[DEFAULT_USER_COUNT-2]*   на   *return default_list[-1]*"
      ],
      "metadata": {
        "id": "5llsZxhwinwD"
      }
    },
    {
      "cell_type": "code",
      "source": [
        "DEFAULT_USER_COUNT = 3\n",
        "def delete_and_return_last_user(region, default_list=['A100', 'A101', 'A102']):\n",
        "    \"\"\"\"\" Удаляет из списка default_list последнего пользователя и возвращает ID нового последнего пользователя. \"\"\"\n",
        "    element_to_delete = default_list[-1]\n",
        "    default_list.remove(element_to_delete)\n",
        "    return default_list[-1]\n",
        "\n",
        "delete_and_return_last_user(1)"
      ],
      "metadata": {
        "colab": {
          "base_uri": "https://localhost:8080/",
          "height": 36
        },
        "id": "AhPghdlpkRQK",
        "outputId": "aa542ac7-d898-460d-b3f1-45e56cc4c1e1"
      },
      "execution_count": null,
      "outputs": [
        {
          "output_type": "execute_result",
          "data": {
            "text/plain": [
              "'A101'"
            ],
            "application/vnd.google.colaboratory.intrinsic+json": {
              "type": "string"
            }
          },
          "metadata": {},
          "execution_count": 69
        }
      ]
    },
    {
      "cell_type": "code",
      "source": [
        "delete_and_return_last_user(1)"
      ],
      "metadata": {
        "colab": {
          "base_uri": "https://localhost:8080/",
          "height": 36
        },
        "id": "M2s8871tkUby",
        "outputId": "a64c1a00-8a7b-499e-c7da-286bfb20ab3a"
      },
      "execution_count": null,
      "outputs": [
        {
          "output_type": "execute_result",
          "data": {
            "text/plain": [
              "'A100'"
            ],
            "application/vnd.google.colaboratory.intrinsic+json": {
              "type": "string"
            }
          },
          "metadata": {},
          "execution_count": 70
        }
      ]
    }
  ]
}