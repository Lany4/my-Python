{
  "nbformat": 4,
  "nbformat_minor": 0,
  "metadata": {
    "colab": {
      "provenance": []
    },
    "kernelspec": {
      "name": "python3",
      "display_name": "Python 3"
    },
    "language_info": {
      "name": "python"
    }
  },
  "cells": [
    {
      "cell_type": "markdown",
      "source": [
        "✅**Задание 1**\n",
        "Дана переменная, в которой хранится словарь, содержащий гео-метки для каждого пользователя (пример структуры данных приведен ниже). Вам необходимо написать программу, которая выведет на экран множество уникальных гео-меток всех пользователей.\n",
        "\n",
        "Пример работы программы:\n",
        "\n",
        "\n",
        "ids = {'user1': [213, 213, 213, 15, 213],\n",
        "       'user2': [54, 54, 119, 119, 119],\n",
        "       'user3': [213, 98, 98, 35]}\n",
        "\n",
        "Результат: {98, 35, 15, 213, 54, 119}"
      ],
      "metadata": {
        "id": "LxwuiCIGFGXg"
      }
    },
    {
      "cell_type": "code",
      "source": [
        "ids = {'user1': [213, 213, 213, 15, 213], 'user2': [54, 54, 119, 119, 119], 'user3': [213, 98, 98, 35]}\n",
        "nv = []\n",
        "for values in ids.values():\n",
        "  nv += values\n",
        "print(set(nv))\n",
        "\n",
        "#  так и не поняла, как записать в одну строку, ругается на +="
      ],
      "metadata": {
        "colab": {
          "base_uri": "https://localhost:8080/"
        },
        "id": "kRghfclOtZvX",
        "outputId": "e5cbf243-a5ff-4751-fc45-559b5d07a024"
      },
      "execution_count": null,
      "outputs": [
        {
          "output_type": "stream",
          "name": "stdout",
          "text": [
            "{98, 35, 15, 213, 54, 119}\n"
          ]
        }
      ]
    },
    {
      "cell_type": "markdown",
      "source": [
        "✅**Задание 2**\n",
        "Дана переменная, в которой хранится список поисковых запросов пользователя (пример структуры данных приведен ниже, но запросы потенциально могут быть любые). Вам необходимо написать программу, которая выведет на экран распределение количества слов в запросах в требуемом виде.\n",
        "\n",
        "Пример работы программы:\n",
        "\n",
        "queries = [\n",
        "    'смотреть сериалы онлайн',\n",
        "    'новости спорта',\n",
        "    'афиша кино',\n",
        "    'курс доллара',\n",
        "    'сериалы этим летом',\n",
        "    'курс по питону',\n",
        "    'сериалы про спорт',\n",
        "]\n",
        "\n",
        "Результат:\n",
        "\n",
        "Поисковых запросов, содержащих 2 слов(а): 42.86%\n",
        "Поисковых запросов, содержащих 3 слов(а): 57.14%"
      ],
      "metadata": {
        "id": "MZJ5BmjlFQOs"
      }
    },
    {
      "cell_type": "code",
      "source": [
        "# queries = input('Введите запросы через запятую').strip()\n",
        "# queries = queries.split(',')\n",
        "queries = [ 'смотреть сериалы онлайн', 'новости спорта', 'афиша кино', 'курс доллара', 'сериалы этим летом', 'курс по питону', 'сериалы про спорт']\n",
        "dict = {'2': 0, '3': 0}     # Заведем словарь с ключами - числом слов и значениями - инт(0)\n",
        "for el in queries:          # Переберем все элементы списка\n",
        "  if len(el.split(' ')) == 2:     # Из каждого элемента сделаем список по пробелу и посчиаем его длину\n",
        "    dict['2'] += 1          # если длина 2, +1 в values словаря с ключом '2'\n",
        "  elif len(el.split(' ')) == 3:\n",
        "    dict['3'] += 1\n",
        "val2 = round(dict['2'] * 100 / sum(dict.values()), 2)    # процент от общего\n",
        "val3 = round(dict['3'] * 100 / sum(dict.values()), 2)\n",
        "print(f'Поисковых запросов, содержащих 2 слов(а): {val2}% Поисковых запросов, содержащих 3 слов(а):{val3}%')\n"
      ],
      "metadata": {
        "colab": {
          "base_uri": "https://localhost:8080/"
        },
        "id": "uBnbGIkotv4O",
        "outputId": "44cf069a-0b0b-495d-d43d-68c1213abbee"
      },
      "execution_count": null,
      "outputs": [
        {
          "output_type": "stream",
          "name": "stdout",
          "text": [
            "Поисковых запросов, содержащих 2 слов(а): 42.86% Поисковых запросов, содержащих 3 слов(а):57.14%\n"
          ]
        }
      ]
    },
    {
      "cell_type": "markdown",
      "source": [
        "попыталась иначе создать словарь на основе множества уникальных длин запросов, см ниже\n",
        "\n",
        "но всё же как сделать, что бы в принт автоматом подставлялся ключ на место (2) и (3) и рассчет был соответственно - не сообразила"
      ],
      "metadata": {
        "id": "oapXvhq20QZN"
      }
    },
    {
      "cell_type": "code",
      "source": [
        "queries = [ 'смотреть сериалы онлайн', 'новости спорта', 'афиша кино', 'курс доллара', 'сериалы этим летом', 'курс по питону', 'сериалы про спорт']\n",
        "res = {}\n",
        "key = set([len(el.split(' ')) for el in queries])     # множество (уникальных) длин запросов\n",
        "key = list(key)                   # список из множества уникальных длин запросов\n",
        "{res.setdefault(key[el], 0) for el in range(len(key))}     # создадим словарь с ключами из списка уникальных длин запросов\n",
        "for el in queries:      # Циклом для каждого элемента списка запросов  по ключу = (длина запроса) посчитаем количество запросов (счетчик в значение)\n",
        "  res[len(el.split(' '))] += 1\n",
        "print(f'Поисковых запросов, содержащих 2 слов(а): {round(res[2] * 100 / sum(res.values()), 2)}% Поисковых запросов, содержащих 3 слов(а):{round(res[3] * 100 / sum(res.values()), 2)}%')\n"
      ],
      "metadata": {
        "colab": {
          "base_uri": "https://localhost:8080/"
        },
        "id": "vU8B7q8hxBap",
        "outputId": "3b29e833-3751-4735-ee80-9be59eb86c72"
      },
      "execution_count": null,
      "outputs": [
        {
          "output_type": "stream",
          "name": "stdout",
          "text": [
            "Поисковых запросов, содержащих 2 слов(а): 42.86% Поисковых запросов, содержащих 3 слов(а):57.14%\n"
          ]
        }
      ]
    },
    {
      "cell_type": "code",
      "source": [
        "# Вариант решения  №3\n",
        "queries = input('Введите запросы через запятую: ').strip()\n",
        "queries = queries.split(',')\n",
        "res = {}\n",
        "key = set([len(el.split(' ')) for el in queries])     # множество (уникальных) длин запросов\n",
        "key = list(key)                   # список из множества уникальных длин запросов\n",
        "{res.setdefault(key[el], 0) for el in range(len(key))}     # создадим словарь с ключами из списка уникальных длин запросов\n",
        "for el in queries:      # Циклом для каждого элемента списка запросов  по ключу = (длина запроса) посчитаем количество запросов (счетчик в значение)\n",
        "  res[len(el.split(' '))] += 1\n",
        "\n",
        "for key, val in res.items():\n",
        "  print(f'Поисковых запросов, содержащих {key} слов(а): {round(res[key] * 100 / sum(res.values()), 2)}% ')\n",
        "\n",
        "# Однако в таком случае вывод происходит каждый раз с новой строки, а в условии в одну."
      ],
      "metadata": {
        "colab": {
          "base_uri": "https://localhost:8080/"
        },
        "id": "glsbJ0kg7fOq",
        "outputId": "d040eb8f-8da3-434f-a0f7-1790c7208668"
      },
      "execution_count": null,
      "outputs": [
        {
          "output_type": "stream",
          "name": "stdout",
          "text": [
            "Введите запросы через запятую: смотреть спорт, делать домашку, хотеть на море, сидеть на стуле, смотреть в монитор, дхотеть сдавать домашку с первого раза\n",
            "Поисковых запросов, содержащих 2 слов(а): 16.67% \n",
            "Поисковых запросов, содержащих 3 слов(а): 16.67% \n",
            "Поисковых запросов, содержащих 4 слов(а): 50.0% \n",
            "Поисковых запросов, содержащих 7 слов(а): 16.67% \n"
          ]
        }
      ]
    },
    {
      "cell_type": "markdown",
      "source": [
        "✅**Задание 3**\n",
        "\n",
        "Дана переменная, в которой хранится информация о затратах и доходе рекламных кампаний по различным источникам. Необходимо дополнить исходную структуру показателем ROI, который рассчитаем по формуле: ((revenue / cost) - 1) * 100\n",
        "\n",
        "Пример работы программы:\n",
        "\n",
        "\n",
        "results = {\n",
        "    'vk': {'revenue': 103, 'cost': 98},\n",
        "    'yandex': {'revenue': 179, 'cost': 153},\n",
        "    'facebook': {'revenue': 103, 'cost': 110},\n",
        "    'adwords': {'revenue': 35, 'cost': 34},\n",
        "    'twitter': {'revenue': 11, 'cost': 24},\n",
        "}\n",
        "\n",
        "Результат:\n",
        "\n",
        "\n",
        "{'adwords': {'revenue': 35, 'cost': 34, 'ROI': 2.94},\n",
        " 'facebook': {'revenue': 103, 'cost': 110, 'ROI': -6.36},\n",
        " 'twitter': {'revenue': 11, 'cost': 24, 'ROI': -54.17},\n",
        " 'vk': {'revenue': 103, 'cost': 98, 'ROI': 5.1},\n",
        " 'yandex': {'revenue': 179, 'cost': 153, 'ROI': 16.99}}"
      ],
      "metadata": {
        "id": "aRGDDoH5FS3e"
      }
    },
    {
      "cell_type": "code",
      "source": [
        "results = { 'vk': {'revenue': 103, 'cost': 98}, 'yandex': {'revenue': 179, 'cost': 153}, 'facebook': {'revenue': 103, 'cost': 110}, 'adwords': {'revenue': 35, 'cost': 34}, 'twitter': {'revenue': 11, 'cost': 24}, }\n",
        "for values in results.values():    # Для словарей в значениях проверим наличие(setdefault) и, если нет то setdefault добавит в словарь по ключу ROI со значением - формула\n",
        "  values.setdefault('ROI', round((((values['revenue'] / values['cost']) - 1) * 100 ), 2))\n",
        "print(results)\n"
      ],
      "metadata": {
        "colab": {
          "base_uri": "https://localhost:8080/"
        },
        "id": "w8DR4Rgn1Qr9",
        "outputId": "15f03407-551f-4fe8-d05a-9bba15970d18"
      },
      "execution_count": null,
      "outputs": [
        {
          "output_type": "stream",
          "name": "stdout",
          "text": [
            "{'vk': {'revenue': 103, 'cost': 98, 'ROI': 5.1}, 'yandex': {'revenue': 179, 'cost': 153, 'ROI': 16.99}, 'facebook': {'revenue': 103, 'cost': 110, 'ROI': -6.36}, 'adwords': {'revenue': 35, 'cost': 34, 'ROI': 2.94}, 'twitter': {'revenue': 11, 'cost': 24, 'ROI': -54.17}}\n"
          ]
        }
      ]
    },
    {
      "cell_type": "markdown",
      "source": [
        "✅**Задание 4**\n",
        "\n",
        "Дана переменная, в которой хранится статистика рекламных каналов по объемам продаж (пример структуры данных приведен ниже). Напишите программу, которая возвращает название канала с максимальным объемом продаж.\n",
        "\n",
        "\n",
        "Пример работы программы:\n",
        "\n",
        "\n",
        "stats = {'facebook': 55, 'yandex': 115, 'vk': 120, 'google': 99, 'email': 42, 'ok': 98}\n",
        "\n",
        "\n",
        "Результат: Максимальный объем продаж на рекламном канале: vk"
      ],
      "metadata": {
        "id": "R3x5-_TEFWRR"
      }
    },
    {
      "cell_type": "code",
      "source": [
        "stats = {'facebook': 55, 'yandex': 115, 'vk': 120, 'google': 99, 'email': 42, 'ok': 98}\n",
        "\n",
        "b = max([values for values in stats.values()])  # Максимальное значение: создаем список всех значений, берем максимальный\n",
        "\n",
        "for key, values in stats.items():     # Для пар ключ-значение в словаре:\n",
        "  if values == b:             #  если значение равно переменной\n",
        "    a = key      #  Присвоим ключ в переменную\n",
        "\n",
        "print(f'Максимальный объем продаж на рекламном канале {a}')"
      ],
      "metadata": {
        "colab": {
          "base_uri": "https://localhost:8080/"
        },
        "id": "9_8xxRqpuypJ",
        "outputId": "664a863c-b710-4600-eb1a-5c6857e4dc35"
      },
      "execution_count": null,
      "outputs": [
        {
          "output_type": "stream",
          "name": "stdout",
          "text": [
            "Максимальный объем продаж на рекламном канале vk\n"
          ]
        }
      ]
    },
    {
      "cell_type": "code",
      "source": [
        "# Попробовала написать функцию\n",
        "stats = {'facebook': 55, 'yandex': 115, 'vk': 120, 'google': 99, 'email': 42, 'ok': 98}\n",
        "\n",
        "b = max([values for values in stats.values()])   # Максимальное значение: создаем список всех значений, берем максимальный\n",
        "\n",
        "def get_key(dict, val):     # Создадим функцию на входе словарь и число, равное искомому значению\n",
        "    for key, value in dict.items():\n",
        "        if val == value:   # Если значение равно число на входе:\n",
        "            return key     # возвращает ключ\n",
        "\n",
        "print(f'Максимальный объем продаж на рекламном канале {get_key(stats, b)}')\n"
      ],
      "metadata": {
        "colab": {
          "base_uri": "https://localhost:8080/"
        },
        "id": "-yeCwpoM7AEc",
        "outputId": "1c47ef50-4dbe-43b0-e2e8-55a14a951371"
      },
      "execution_count": null,
      "outputs": [
        {
          "output_type": "stream",
          "name": "stdout",
          "text": [
            "Максимальный объем продаж на рекламном канале vk\n"
          ]
        }
      ]
    },
    {
      "cell_type": "markdown",
      "source": [
        "✅**Задание 5 (необязательно)**\n",
        "\n",
        "Дан список произвольной длины. Необходимо написать код, который на основе исходного списка составит словарь такого уровня вложенности, какова длина исхондого списка.\n",
        "\n",
        "Примеры работы программы:\n",
        "\n",
        "\n",
        "my_list = ['2018-01-01', 'yandex', 'cpc', 100]\n",
        "\n",
        "Результат: {'2018-01-01': {'yandex': {'cpc': 100}}}\n",
        "\n",
        "\n",
        "my_list = ['a', 'b', 'c', 'd', 'e', 'f']\n",
        "\n",
        "Результат: {'a': {'b': {'c': {'d': {'e': 'f'}}}}}"
      ],
      "metadata": {
        "id": "5zJddMGqFYj2"
      }
    },
    {
      "cell_type": "code",
      "source": [
        "my_list = ['2018-01-01', 'yandex', 'cpc', 100]\n",
        "\n",
        "res = my_list[-1]       # Возмем исходный список без последнего значения, так как оно будет значением словаря в конце\n",
        "for el in reversed(my_list[:-1]):       # Перебирая элементы перевернутого списка без последнего значения\n",
        "  res = {el: res}            # записыввем в результат словарь, где ключ - элемент, а значение - результат (в первой итерации последнее зн-е списка, далее созданныйй словарь)\n",
        "\n",
        "# res = {{el: res} for el in reversed(my_list[:-1])} - ругается\n",
        "\n",
        "print(res)"
      ],
      "metadata": {
        "colab": {
          "base_uri": "https://localhost:8080/"
        },
        "id": "Xd9pGS-YbCe2",
        "outputId": "6160829d-a2aa-48af-a8b6-9ca8c68bd986"
      },
      "execution_count": null,
      "outputs": [
        {
          "output_type": "stream",
          "name": "stdout",
          "text": [
            "{'2018-01-01': {'yandex': {'cpc': 100}}}\n"
          ]
        }
      ]
    },
    {
      "cell_type": "code",
      "source": [
        "# через функцию длиннее\n",
        "\n",
        "my_list = ['2018-01-01', 'yandex', 'cpc', 100]\n",
        "\n",
        "def dict_create(list):\n",
        "  reverse_list = reversed(list)\n",
        "  next_value = next(reverse_list)\n",
        "  for el in reverse_list:\n",
        "    next_value = {el: next_value}\n",
        "  return next_value\n",
        "\n",
        "print(dict_create(my_list))"
      ],
      "metadata": {
        "colab": {
          "base_uri": "https://localhost:8080/"
        },
        "id": "IvUHiGEQxVFB",
        "outputId": "3edd3e99-f2e2-443a-ea5d-6b1ad9f2c99f"
      },
      "execution_count": null,
      "outputs": [
        {
          "output_type": "stream",
          "name": "stdout",
          "text": [
            "{'2018-01-01': {'yandex': {'cpc': 100}}}\n"
          ]
        }
      ]
    },
    {
      "cell_type": "markdown",
      "source": [
        "✅**Задание 6 (необязательно)**\n",
        "\n",
        "Дана книга рецептов с информацией о том, сколько ингредиентов нужно для приготовления блюда в расчете на одну порцию (пример данных представлен ниже).\n",
        "Напишите программу, которая будет запрашивать у пользователя количество порций для приготовления этих блюд и отображать информацию о суммарном количестве требуемых ингредиентов в указанном виде.\n",
        "Внимание! Одинаковые ингредиенты с разными размерностями нужно считать раздельно!\n",
        "\n",
        "Пример работы программы:\n",
        "\n",
        "cook_book = {\n",
        "\n",
        "  'салат': [\n",
        "     {'ingridient_name': 'сыр', 'quantity': 50, 'measure': 'гр'},\n",
        "     {'ingridient_name': 'томаты', 'quantity': 2, 'measure': 'шт'},\n",
        "     {'ingridient_name': 'огурцы', 'quantity': 20, 'measure': 'гр'},\n",
        "     {'ingridient_name': 'маслины', 'quantity': 10, 'measure': 'гр'},\n",
        "     {'ingridient_name': 'оливковое масло', 'quantity': 20, 'measure': 'мл'},\n",
        "     {'ingridient_name': 'салат', 'quantity': 10, 'measure': 'гр'},\n",
        "     {'ingridient_name': 'перец', 'quantity': 20, 'measure': 'гр'}\n",
        "    ],\n",
        "\n",
        "  'пицца': [\n",
        "     {'ingridient_name': 'сыр', 'quantity': 20, 'measure': 'гр'},\n",
        "     {'ingridient_name': 'колбаса', 'quantity': 30, 'measure': 'гр'},\n",
        "     {'ingridient_name': 'бекон', 'quantity': 30, 'measure': 'гр'},\n",
        "     {'ingridient_name': 'оливки', 'quantity': 10, 'measure': 'гр'},\n",
        "     {'ingridient_name': 'томаты', 'quantity': 20, 'measure': 'гр'},\n",
        "     {'ingridient_name': 'тесто', 'quantity': 100, 'measure': 'гр'},   \n",
        "    ],\n",
        "\n",
        "  'лимонад': [\n",
        "     {'ingridient_name': 'лимон', 'quantity': 1, 'measure': 'шт'},\n",
        "     {'ingridient_name': 'вода', 'quantity': 200, 'measure': 'мл'},\n",
        "     {'ingridient_name': 'сахар', 'quantity': 10, 'measure': 'гр'},\n",
        "     {'ingridient_name': 'лайм', 'quantity': 20, 'measure': 'гр'},    \n",
        "    ]\n",
        "}\n",
        "\n",
        "Введите количество порций: 3\n",
        "\n",
        "Результат:\n",
        "\n",
        "Сыр: 210 гр  \n",
        "Томаты: 6 шт  \n",
        "Огурцы: 60 гр  \n",
        "Маслины: 30 гр  \n",
        "Оливковое масло: 60 мл  \n",
        "Салат: 30 гр  \n",
        "Перец: 60 гр  \n",
        "Колбаса: 90 гр  \n",
        "Бекон: 90 гр  \n",
        "Оливки: 30 гр  \n",
        "Томаты: 60 гр  \n",
        "Тесто: 300 гр  \n",
        "Лимон: 3 шт  \n",
        "Вода: 600 мл  \n",
        "Сахар: 30 гр  \n",
        "Лайм: 60 гр  "
      ],
      "metadata": {
        "id": "BOvj3QMtFa0m"
      }
    },
    {
      "cell_type": "code",
      "source": [
        "cook_book = {\n",
        "\n",
        "'салат': [ {'ingridient_name': 'сыр', 'quantity': 50, 'measure': 'гр'}, {'ingridient_name': 'томаты', 'quantity': 2, 'measure': 'шт'}, {'ingridient_name': 'огурцы', 'quantity': 20, 'measure': 'гр'}, {'ingridient_name': 'маслины', 'quantity': 10, 'measure': 'гр'}, {'ingridient_name': 'оливковое масло', 'quantity': 20, 'measure': 'мл'}, {'ingridient_name': 'салат', 'quantity': 10, 'measure': 'гр'}, {'ingridient_name': 'перец', 'quantity': 20, 'measure': 'гр'} ],\n",
        "\n",
        "'пицца': [ {'ingridient_name': 'сыр', 'quantity': 20, 'measure': 'гр'}, {'ingridient_name': 'колбаса', 'quantity': 30, 'measure': 'гр'}, {'ingridient_name': 'бекон', 'quantity': 30, 'measure': 'гр'}, {'ingridient_name': 'оливки', 'quantity': 10, 'measure': 'гр'}, {'ingridient_name': 'томаты', 'quantity': 20, 'measure': 'гр'}, {'ingridient_name': 'тесто', 'quantity': 100, 'measure': 'гр'},\n",
        "],\n",
        "\n",
        "'лимонад': [ {'ingridient_name': 'лимон', 'quantity': 1, 'measure': 'шт'}, {'ingridient_name': 'вода', 'quantity': 200, 'measure': 'мл'}, {'ingridient_name': 'сахар', 'quantity': 10, 'measure': 'гр'}, {'ingridient_name': 'лайм', 'quantity': 20, 'measure': 'гр'},\n",
        "] }\n",
        "\n",
        "q_ty_portion = int(input('Введите количество порций: '))\n",
        "res = []\n",
        "for values in cook_book.values():    # Для значений в кукбук\n",
        "  for eng in values:           # Для значений в словаре с ингридиентом\n",
        "    name, q_ty, measure = eng.values()     # Присвоим значения словаря в переменные\n",
        "    q_ty = q_ty * q_ty_portion     # пересчитаем кол-во\n",
        "    tem_list = [name, q_ty, measure]     # добавим измененное во временный список\n",
        "    res.append(tem_list)   # Добавим временный список в список рез\n",
        "\n",
        "for i in range(len(res)-1):     # Для сравнения элементов между собой (\n",
        "  for j in range(len(res)-1):\n",
        "    if i == j:  # Не сравнивать элемент сам с собой\n",
        "      continue\n",
        "    elif res[i][0] == res[j][0] and res[i][2] == res[j][2]:     # если у вложенных списков совпадают 0 и 2 значения,\n",
        "      res[i][1] = res[i][1] + res[j][1]     # то в первый список добавим количество из второго\n",
        "      res.remove(res[j])     # а второй удалим из рез\n",
        "  print(f'{res[i][0].capitalize()}:{res[i][1]} {res[i][2]}')   # выведем на печать поэлементно\n",
        "\n"
      ],
      "metadata": {
        "colab": {
          "base_uri": "https://localhost:8080/"
        },
        "id": "cr79znJfLBv-",
        "outputId": "3b3736b7-bdb4-4ea6-fd65-e3ef17e26b61"
      },
      "execution_count": null,
      "outputs": [
        {
          "output_type": "stream",
          "name": "stdout",
          "text": [
            "Введите количество порций: 3\n",
            "Сыр:210 гр\n",
            "Томаты:6 шт\n",
            "Огурцы:60 гр\n",
            "Маслины:30 гр\n",
            "Оливковое масло:60 мл\n",
            "Салат:30 гр\n",
            "Перец:60 гр\n",
            "Колбаса:90 гр\n",
            "Бекон:90 гр\n",
            "Оливки:30 гр\n",
            "Томаты:60 гр\n",
            "Тесто:300 гр\n",
            "Лимон:3 шт\n",
            "Вода:600 мл\n",
            "Сахар:30 гр\n",
            "Лайм:60 гр\n"
          ]
        }
      ]
    },
    {
      "cell_type": "markdown",
      "source": [
        "Оптимизированный вариант от Олега Булыгина"
      ],
      "metadata": {
        "id": "wvhUL7XF95Z4"
      }
    },
    {
      "cell_type": "code",
      "source": [
        "cook_book = {\n",
        "\n",
        "'салат': [ {'ingridient_name': 'сыр', 'quantity': 50, 'measure': 'гр'}, {'ingridient_name': 'томаты', 'quantity': 2, 'measure': 'шт'}, {'ingridient_name': 'огурцы', 'quantity': 20, 'measure': 'гр'}, {'ingridient_name': 'маслины', 'quantity': 10, 'measure': 'гр'}, {'ingridient_name': 'оливковое масло', 'quantity': 20, 'measure': 'мл'}, {'ingridient_name': 'салат', 'quantity': 10, 'measure': 'гр'}, {'ingridient_name': 'перец', 'quantity': 20, 'measure': 'гр'} ],\n",
        "\n",
        "'пицца': [ {'ingridient_name': 'сыр', 'quantity': 20, 'measure': 'гр'}, {'ingridient_name': 'колбаса', 'quantity': 30, 'measure': 'гр'}, {'ingridient_name': 'бекон', 'quantity': 30, 'measure': 'гр'}, {'ingridient_name': 'оливки', 'quantity': 10, 'measure': 'гр'}, {'ingridient_name': 'томаты', 'quantity': 20, 'measure': 'гр'}, {'ingridient_name': 'тесто', 'quantity': 100, 'measure': 'гр'},\n",
        "],\n",
        "\n",
        "'лимонад': [ {'ingridient_name': 'лимон', 'quantity': 1, 'measure': 'шт'}, {'ingridient_name': 'вода', 'quantity': 200, 'measure': 'мл'}, {'ingridient_name': 'сахар', 'quantity': 10, 'measure': 'гр'}, {'ingridient_name': 'лайм', 'quantity': 20, 'measure': 'гр'},\n",
        "] }\n",
        "numb_servings = int(input('Укажите количество порций: '))\n",
        "quantity_book = {}\n",
        "\n",
        "for ingred_book in sum(cook_book.values(), []):\n",
        "  ingred_key = (ingred_book['ingridient_name'], ingred_book['measure'])\n",
        "  quantity_book[ingred_key] = quantity_book.get(ingred_key, 0) + ingred_book['quantity']\n",
        "\n",
        "for (ingred_name, measure), quantity in quantity_book.items():\n",
        "  print(f'{ingred_name.capitalize()}: {quantity * numb_servings} {measure}')"
      ],
      "metadata": {
        "colab": {
          "base_uri": "https://localhost:8080/"
        },
        "id": "HNchbKCY9xfX",
        "outputId": "de774be1-d171-45cc-8804-0d8667038f36"
      },
      "execution_count": null,
      "outputs": [
        {
          "output_type": "stream",
          "name": "stdout",
          "text": [
            "Укажите количество порций: 3\n",
            "Сыр: 210 гр\n",
            "Томаты: 6 шт\n",
            "Огурцы: 60 гр\n",
            "Маслины: 30 гр\n",
            "Оливковое масло: 60 мл\n",
            "Салат: 30 гр\n",
            "Перец: 60 гр\n",
            "Колбаса: 90 гр\n",
            "Бекон: 90 гр\n",
            "Оливки: 30 гр\n",
            "Томаты: 60 гр\n",
            "Тесто: 300 гр\n",
            "Лимон: 3 шт\n",
            "Вода: 600 мл\n",
            "Сахар: 30 гр\n",
            "Лайм: 60 гр\n"
          ]
        }
      ]
    }
  ]
}